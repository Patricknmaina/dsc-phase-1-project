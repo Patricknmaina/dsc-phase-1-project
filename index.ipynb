{
 "cells": [
  {
   "cell_type": "markdown",
   "metadata": {},
   "source": [
    "# ✈️ Phase 1 Project - Aircraft Risk Assessment for Business Expansion\n",
    "\n",
    "* Student name: Patrick Maina\n",
    "* Student pace: DSF-FT12\n",
    "* Scheduled project review date/time: Friday, 28th March, 2025\n",
    "* Instructor name: Nikita Njoroge\n",
    "\n",
    "## Project Overview\n",
    "### Problem Statement\n",
    "As part of its quest to expand its business, my company is venturing into the aviation industry to operate both commercial and private aircrafts. However, one crucial challenge is the assessing of potential risks associated with different aircraft models and makes.\n",
    "\n",
    "Therefore, to ensure a data-driven decision making process, this project aims to analyze historical aviation incident data to identify aircrafts with the lowest risk profile. By leveraging Data Science techniques such as data cleaning, exploratory data analysis (EDA), and visualization, we will uncover trends in aircraft safety, manufacturers' reliability, and key risk factors influencing aviation incidents.\n",
    "\n",
    "### Data Understanding\n",
    "The [Aviation Accident Database & Synopses](https://www.kaggle.com/datasets/khsamaha/aviation-accident-database-synopses?select=AviationData.csv) dataset from kaggle contains historical aviation incident records, including information on aircrafts, accident severity, causes, locations and weather conditions. The data also provides valuable insights into aviation safety trends and risk factors associated with different aircraft models and manufacturers.\n",
    "The dataset contains two data files:\n",
    "1. `AviationData.csv`: Contains detailed information on each aviation incident, including aircraft details, operational and environmental factors, and regulatory information.\n",
    "2. `USState_Codes.csv`: Contains US states, as well as their abbreviations.\n",
    "\n",
    "#### Key features of the Dataset:\n",
    "- __Accident/Incident Details:__\n",
    "    - Date and Time of the incident\n",
    "    - Location: City, State, and Country where the event took place\n",
    "    - Accident severity: Categorization of the event, which may include classifications such as fatal, non-fatal or minor incidents\n",
    "    - Injury Count: Number of people affected, including fatalities and serious injuries.\n",
    "- __Aircraft Information:__\n",
    "    - Type of Aircraft: Specifies whether the aircraft was used for commercial, private, cargo or military purposes\n",
    "    - Manufacturer and Model: Identifies the Aircraft's manufacturer (e.g., Boeing, Airbus, Cesna) and the specific model involved in the incident.\n",
    "    - Number of Engines and Engine Type: Distinguishes between single-engine, twin-engine, and jet-powered aircraft, which may affect accidental patterns.\n",
    "    - Year of Manufacture: The production year of the aircraft, which could indicate whether older aircrafts are more prone to incidents.\n",
    "- __Operational and Environmental Factors__:\n",
    "    - Phase of flight: Indicates whether the incident occured during takeoff, cruising, landing, taxiing, or another flight phase.\n",
    "    - Weather conditions: Records if adverse weather condtions played a role in the incident, such as storms, fog, or strong winds\n",
    "    - Pilot Experience and Crew Information: May include details on pilot certifications and experience levels, which can be crucial in determining human error risks.\n",
    "- __Regulatory Information:__\n",
    "    - Federal Aviation Regulations (FAR): Specifies the legal framework under which the aircraft was operating(e.g., commercial airline, private charter, training flight)\n",
    "    - NTSB (National Transportation Safety Board) report status: Indicates whether the incident has been officially investigated, and if a final report is available.\n",
    "\n",
    "The goal of analyzing this dataset is to identify aircraft models with the lowest risk by examining historical incident trends. This analysis will help the company make informed decisions on the aircraft to purchase, ensuring safety and operational efficiency in its new aviation division.\n",
    "\n",
    "### Key questions to cosider:\n",
    "1. __Aircraft Safety and Risk Analysis:__\n",
    "   - Which aircraft models have the lowest risk of accidents?\n",
    "   - Are there certain type of accidents that are more prone to accidents?\n",
    "   - Does the age of an aircraft influence its chances of getting involved in an accident?\n",
    "   - What is the distribution of incident severity (fatal vs non-fatal) across different aircraft models?\n",
    "2. __Common causes of Aviation incidents:__\n",
    "   - What are te most common causes of accidents (e.g., mechanical failure, pilot error, weather conditions, etc)?\n",
    "   - How often do human factors (e.g., pilot inexperience, miscommunication) lead to accidents?\n",
    "   - Do single-engine aircrafts experience more incidents than multi-engine or jet-powered aircrafts?\n",
    "3. __Environmental & Operational Factors:__\n",
    "   - During which phase of flight (Takeoff, Cruising, Landing) do most incidents occur?\n",
    "   - Do certain weather conditions (e.g, storms, fog) correlate with a higher accident rate?\n",
    "   - Are there any specific geographic regions/airports with a higher number of incidents?\n",
    "4. __Temporal Trends & Patterns:__\n",
    "   - What has been the trend of aviation incidents over time?\n",
    "   - Are accidents more common during specific months or seasons?\n",
    "   - Are newer aircraft models (manufactured in recent years) safer compared to older ones?\n",
    "5. __Business Decision-Making:__\n",
    "   - Based on the analysis, which aircraft models should the company consider purchasing to minimize risk?\n",
    "   - What are the best-performing manufacturers in terms of safety and reliability?\n",
    "   - How can the organization leverage these insights to improve operational safety and mitigate risks?\n",
    "\n",
    "### Data Methodology\n",
    "To analyze the aviation incident data, I will follow these steps:\n",
    "1. __Data Extraction:__ Download the Aviation dataset from Kaggle, load it into a pandas DataFrame and obtain the general information of the dataset.\n",
    "2. __Data Cleaning:__ Remove any missing values or irrelevant data points.\n",
    "3. __Exploratory Data Analysis (EDA):__ Perform data visualization and statistical analysis to understand the distribution of incidents, risk factors, and trends in the dataset.\n",
    "\n",
    "### Expected outcomes:\n",
    "By exploring and analyzing the Aviation dataset, I will be able to:\n",
    "- Identify aircraft models with the lowest risk of accidents.\n",
    "- Obtain insights into the most common causes of aviation incidents\n",
    "- Provide recommendations to help the company's Aviation division in minimizing risks and making informed investment decisions.\n",
    "\n",
    "Now that we have a full understanding of the project and the data, we can dive into the code!🚀"
   ]
  },
  {
   "cell_type": "markdown",
   "metadata": {},
   "source": []
  },
  {
   "cell_type": "code",
   "execution_count": 84,
   "metadata": {},
   "outputs": [],
   "source": [
    "# import required libraries\n",
    "import pandas as pd\n",
    "import numpy as np\n",
    "import matplotlib.pyplot as plt\n",
    "import seaborn as sns"
   ]
  },
  {
   "cell_type": "code",
   "execution_count": 85,
   "metadata": {},
   "outputs": [
    {
     "data": {
      "application/vnd.microsoft.datawrangler.viewer.v0+json": {
       "columns": [
        {
         "name": "index",
         "rawType": "int64",
         "type": "integer"
        },
        {
         "name": "Event.Id",
         "rawType": "object",
         "type": "string"
        },
        {
         "name": "Investigation.Type",
         "rawType": "object",
         "type": "string"
        },
        {
         "name": "Accident.Number",
         "rawType": "object",
         "type": "string"
        },
        {
         "name": "Event.Date",
         "rawType": "object",
         "type": "string"
        },
        {
         "name": "Location",
         "rawType": "object",
         "type": "string"
        },
        {
         "name": "Country",
         "rawType": "object",
         "type": "string"
        },
        {
         "name": "Latitude",
         "rawType": "object",
         "type": "string"
        },
        {
         "name": "Longitude",
         "rawType": "object",
         "type": "string"
        },
        {
         "name": "Airport.Code",
         "rawType": "object",
         "type": "string"
        },
        {
         "name": "Airport.Name",
         "rawType": "object",
         "type": "string"
        },
        {
         "name": "Injury.Severity",
         "rawType": "object",
         "type": "string"
        },
        {
         "name": "Aircraft.damage",
         "rawType": "object",
         "type": "string"
        },
        {
         "name": "Aircraft.Category",
         "rawType": "object",
         "type": "string"
        },
        {
         "name": "Registration.Number",
         "rawType": "object",
         "type": "string"
        },
        {
         "name": "Make",
         "rawType": "object",
         "type": "string"
        },
        {
         "name": "Model",
         "rawType": "object",
         "type": "string"
        },
        {
         "name": "Amateur.Built",
         "rawType": "object",
         "type": "string"
        },
        {
         "name": "Number.of.Engines",
         "rawType": "float64",
         "type": "float"
        },
        {
         "name": "Engine.Type",
         "rawType": "object",
         "type": "string"
        },
        {
         "name": "FAR.Description",
         "rawType": "object",
         "type": "string"
        },
        {
         "name": "Schedule",
         "rawType": "object",
         "type": "string"
        },
        {
         "name": "Purpose.of.flight",
         "rawType": "object",
         "type": "string"
        },
        {
         "name": "Air.carrier",
         "rawType": "object",
         "type": "string"
        },
        {
         "name": "Total.Fatal.Injuries",
         "rawType": "float64",
         "type": "float"
        },
        {
         "name": "Total.Serious.Injuries",
         "rawType": "float64",
         "type": "float"
        },
        {
         "name": "Total.Minor.Injuries",
         "rawType": "float64",
         "type": "float"
        },
        {
         "name": "Total.Uninjured",
         "rawType": "float64",
         "type": "float"
        },
        {
         "name": "Weather.Condition",
         "rawType": "object",
         "type": "string"
        },
        {
         "name": "Broad.phase.of.flight",
         "rawType": "object",
         "type": "string"
        },
        {
         "name": "Report.Status",
         "rawType": "object",
         "type": "string"
        },
        {
         "name": "Publication.Date",
         "rawType": "object",
         "type": "string"
        }
       ],
       "conversionMethod": "pd.DataFrame",
       "ref": "e8444c90-58a9-4352-ae54-402ec29cdbb9",
       "rows": [
        [
         "0",
         "20001218X45444",
         "Accident",
         "SEA87LA080",
         "1948-10-24",
         "MOOSE CREEK, ID",
         "United States",
         null,
         null,
         null,
         null,
         "Fatal(2)",
         "Destroyed",
         null,
         "NC6404",
         "Stinson",
         "108-3",
         "No",
         "1.0",
         "Reciprocating",
         null,
         null,
         "Personal",
         null,
         "2.0",
         "0.0",
         "0.0",
         "0.0",
         "UNK",
         "Cruise",
         "Probable Cause",
         null
        ],
        [
         "1",
         "20001218X45447",
         "Accident",
         "LAX94LA336",
         "1962-07-19",
         "BRIDGEPORT, CA",
         "United States",
         null,
         null,
         null,
         null,
         "Fatal(4)",
         "Destroyed",
         null,
         "N5069P",
         "Piper",
         "PA24-180",
         "No",
         "1.0",
         "Reciprocating",
         null,
         null,
         "Personal",
         null,
         "4.0",
         "0.0",
         "0.0",
         "0.0",
         "UNK",
         "Unknown",
         "Probable Cause",
         "19-09-1996"
        ],
        [
         "2",
         "20061025X01555",
         "Accident",
         "NYC07LA005",
         "1974-08-30",
         "Saltville, VA",
         "United States",
         "36.922223",
         "-81.878056",
         null,
         null,
         "Fatal(3)",
         "Destroyed",
         null,
         "N5142R",
         "Cessna",
         "172M",
         "No",
         "1.0",
         "Reciprocating",
         null,
         null,
         "Personal",
         null,
         "3.0",
         null,
         null,
         null,
         "IMC",
         "Cruise",
         "Probable Cause",
         "26-02-2007"
        ],
        [
         "3",
         "20001218X45448",
         "Accident",
         "LAX96LA321",
         "1977-06-19",
         "EUREKA, CA",
         "United States",
         null,
         null,
         null,
         null,
         "Fatal(2)",
         "Destroyed",
         null,
         "N1168J",
         "Rockwell",
         "112",
         "No",
         "1.0",
         "Reciprocating",
         null,
         null,
         "Personal",
         null,
         "2.0",
         "0.0",
         "0.0",
         "0.0",
         "IMC",
         "Cruise",
         "Probable Cause",
         "12-09-2000"
        ],
        [
         "4",
         "20041105X01764",
         "Accident",
         "CHI79FA064",
         "1979-08-02",
         "Canton, OH",
         "United States",
         null,
         null,
         null,
         null,
         "Fatal(1)",
         "Destroyed",
         null,
         "N15NY",
         "Cessna",
         "501",
         "No",
         null,
         null,
         null,
         null,
         "Personal",
         null,
         "1.0",
         "2.0",
         null,
         "0.0",
         "VMC",
         "Approach",
         "Probable Cause",
         "16-04-1980"
        ]
       ],
       "shape": {
        "columns": 31,
        "rows": 5
       }
      },
      "text/html": [
       "<div>\n",
       "<style scoped>\n",
       "    .dataframe tbody tr th:only-of-type {\n",
       "        vertical-align: middle;\n",
       "    }\n",
       "\n",
       "    .dataframe tbody tr th {\n",
       "        vertical-align: top;\n",
       "    }\n",
       "\n",
       "    .dataframe thead th {\n",
       "        text-align: right;\n",
       "    }\n",
       "</style>\n",
       "<table border=\"1\" class=\"dataframe\">\n",
       "  <thead>\n",
       "    <tr style=\"text-align: right;\">\n",
       "      <th></th>\n",
       "      <th>Event.Id</th>\n",
       "      <th>Investigation.Type</th>\n",
       "      <th>Accident.Number</th>\n",
       "      <th>Event.Date</th>\n",
       "      <th>Location</th>\n",
       "      <th>Country</th>\n",
       "      <th>Latitude</th>\n",
       "      <th>Longitude</th>\n",
       "      <th>Airport.Code</th>\n",
       "      <th>Airport.Name</th>\n",
       "      <th>...</th>\n",
       "      <th>Purpose.of.flight</th>\n",
       "      <th>Air.carrier</th>\n",
       "      <th>Total.Fatal.Injuries</th>\n",
       "      <th>Total.Serious.Injuries</th>\n",
       "      <th>Total.Minor.Injuries</th>\n",
       "      <th>Total.Uninjured</th>\n",
       "      <th>Weather.Condition</th>\n",
       "      <th>Broad.phase.of.flight</th>\n",
       "      <th>Report.Status</th>\n",
       "      <th>Publication.Date</th>\n",
       "    </tr>\n",
       "  </thead>\n",
       "  <tbody>\n",
       "    <tr>\n",
       "      <th>0</th>\n",
       "      <td>20001218X45444</td>\n",
       "      <td>Accident</td>\n",
       "      <td>SEA87LA080</td>\n",
       "      <td>1948-10-24</td>\n",
       "      <td>MOOSE CREEK, ID</td>\n",
       "      <td>United States</td>\n",
       "      <td>NaN</td>\n",
       "      <td>NaN</td>\n",
       "      <td>NaN</td>\n",
       "      <td>NaN</td>\n",
       "      <td>...</td>\n",
       "      <td>Personal</td>\n",
       "      <td>NaN</td>\n",
       "      <td>2.0</td>\n",
       "      <td>0.0</td>\n",
       "      <td>0.0</td>\n",
       "      <td>0.0</td>\n",
       "      <td>UNK</td>\n",
       "      <td>Cruise</td>\n",
       "      <td>Probable Cause</td>\n",
       "      <td>NaN</td>\n",
       "    </tr>\n",
       "    <tr>\n",
       "      <th>1</th>\n",
       "      <td>20001218X45447</td>\n",
       "      <td>Accident</td>\n",
       "      <td>LAX94LA336</td>\n",
       "      <td>1962-07-19</td>\n",
       "      <td>BRIDGEPORT, CA</td>\n",
       "      <td>United States</td>\n",
       "      <td>NaN</td>\n",
       "      <td>NaN</td>\n",
       "      <td>NaN</td>\n",
       "      <td>NaN</td>\n",
       "      <td>...</td>\n",
       "      <td>Personal</td>\n",
       "      <td>NaN</td>\n",
       "      <td>4.0</td>\n",
       "      <td>0.0</td>\n",
       "      <td>0.0</td>\n",
       "      <td>0.0</td>\n",
       "      <td>UNK</td>\n",
       "      <td>Unknown</td>\n",
       "      <td>Probable Cause</td>\n",
       "      <td>19-09-1996</td>\n",
       "    </tr>\n",
       "    <tr>\n",
       "      <th>2</th>\n",
       "      <td>20061025X01555</td>\n",
       "      <td>Accident</td>\n",
       "      <td>NYC07LA005</td>\n",
       "      <td>1974-08-30</td>\n",
       "      <td>Saltville, VA</td>\n",
       "      <td>United States</td>\n",
       "      <td>36.922223</td>\n",
       "      <td>-81.878056</td>\n",
       "      <td>NaN</td>\n",
       "      <td>NaN</td>\n",
       "      <td>...</td>\n",
       "      <td>Personal</td>\n",
       "      <td>NaN</td>\n",
       "      <td>3.0</td>\n",
       "      <td>NaN</td>\n",
       "      <td>NaN</td>\n",
       "      <td>NaN</td>\n",
       "      <td>IMC</td>\n",
       "      <td>Cruise</td>\n",
       "      <td>Probable Cause</td>\n",
       "      <td>26-02-2007</td>\n",
       "    </tr>\n",
       "    <tr>\n",
       "      <th>3</th>\n",
       "      <td>20001218X45448</td>\n",
       "      <td>Accident</td>\n",
       "      <td>LAX96LA321</td>\n",
       "      <td>1977-06-19</td>\n",
       "      <td>EUREKA, CA</td>\n",
       "      <td>United States</td>\n",
       "      <td>NaN</td>\n",
       "      <td>NaN</td>\n",
       "      <td>NaN</td>\n",
       "      <td>NaN</td>\n",
       "      <td>...</td>\n",
       "      <td>Personal</td>\n",
       "      <td>NaN</td>\n",
       "      <td>2.0</td>\n",
       "      <td>0.0</td>\n",
       "      <td>0.0</td>\n",
       "      <td>0.0</td>\n",
       "      <td>IMC</td>\n",
       "      <td>Cruise</td>\n",
       "      <td>Probable Cause</td>\n",
       "      <td>12-09-2000</td>\n",
       "    </tr>\n",
       "    <tr>\n",
       "      <th>4</th>\n",
       "      <td>20041105X01764</td>\n",
       "      <td>Accident</td>\n",
       "      <td>CHI79FA064</td>\n",
       "      <td>1979-08-02</td>\n",
       "      <td>Canton, OH</td>\n",
       "      <td>United States</td>\n",
       "      <td>NaN</td>\n",
       "      <td>NaN</td>\n",
       "      <td>NaN</td>\n",
       "      <td>NaN</td>\n",
       "      <td>...</td>\n",
       "      <td>Personal</td>\n",
       "      <td>NaN</td>\n",
       "      <td>1.0</td>\n",
       "      <td>2.0</td>\n",
       "      <td>NaN</td>\n",
       "      <td>0.0</td>\n",
       "      <td>VMC</td>\n",
       "      <td>Approach</td>\n",
       "      <td>Probable Cause</td>\n",
       "      <td>16-04-1980</td>\n",
       "    </tr>\n",
       "  </tbody>\n",
       "</table>\n",
       "<p>5 rows × 31 columns</p>\n",
       "</div>"
      ],
      "text/plain": [
       "         Event.Id Investigation.Type Accident.Number  Event.Date  \\\n",
       "0  20001218X45444           Accident      SEA87LA080  1948-10-24   \n",
       "1  20001218X45447           Accident      LAX94LA336  1962-07-19   \n",
       "2  20061025X01555           Accident      NYC07LA005  1974-08-30   \n",
       "3  20001218X45448           Accident      LAX96LA321  1977-06-19   \n",
       "4  20041105X01764           Accident      CHI79FA064  1979-08-02   \n",
       "\n",
       "          Location        Country   Latitude   Longitude Airport.Code  \\\n",
       "0  MOOSE CREEK, ID  United States        NaN         NaN          NaN   \n",
       "1   BRIDGEPORT, CA  United States        NaN         NaN          NaN   \n",
       "2    Saltville, VA  United States  36.922223  -81.878056          NaN   \n",
       "3       EUREKA, CA  United States        NaN         NaN          NaN   \n",
       "4       Canton, OH  United States        NaN         NaN          NaN   \n",
       "\n",
       "  Airport.Name  ... Purpose.of.flight Air.carrier Total.Fatal.Injuries  \\\n",
       "0          NaN  ...          Personal         NaN                  2.0   \n",
       "1          NaN  ...          Personal         NaN                  4.0   \n",
       "2          NaN  ...          Personal         NaN                  3.0   \n",
       "3          NaN  ...          Personal         NaN                  2.0   \n",
       "4          NaN  ...          Personal         NaN                  1.0   \n",
       "\n",
       "  Total.Serious.Injuries Total.Minor.Injuries Total.Uninjured  \\\n",
       "0                    0.0                  0.0             0.0   \n",
       "1                    0.0                  0.0             0.0   \n",
       "2                    NaN                  NaN             NaN   \n",
       "3                    0.0                  0.0             0.0   \n",
       "4                    2.0                  NaN             0.0   \n",
       "\n",
       "  Weather.Condition  Broad.phase.of.flight   Report.Status Publication.Date  \n",
       "0               UNK                 Cruise  Probable Cause              NaN  \n",
       "1               UNK                Unknown  Probable Cause       19-09-1996  \n",
       "2               IMC                 Cruise  Probable Cause       26-02-2007  \n",
       "3               IMC                 Cruise  Probable Cause       12-09-2000  \n",
       "4               VMC               Approach  Probable Cause       16-04-1980  \n",
       "\n",
       "[5 rows x 31 columns]"
      ]
     },
     "execution_count": 85,
     "metadata": {},
     "output_type": "execute_result"
    }
   ],
   "source": [
    "# Load the Aviation dataset and display first 5 rows\n",
    "aviation_df = pd.read_csv(\"data/AviationData.csv\", encoding=\"latin1\", low_memory=False)\n",
    "aviation_df.head()"
   ]
  },
  {
   "cell_type": "markdown",
   "metadata": {},
   "source": [
    "From the head() function, we can see that the dataset contains 31 columns, with key columns such as `Event Date`, `Location`, `Make`, `Model`, etc."
   ]
  },
  {
   "cell_type": "code",
   "execution_count": 86,
   "metadata": {},
   "outputs": [
    {
     "name": "stdout",
     "output_type": "stream",
     "text": [
      "The dataset has 88889 rows\n",
      "The dataset has 31 columns\n"
     ]
    }
   ],
   "source": [
    "# Check the shape of the dataset\n",
    "print(f\"The dataset has {aviation_df.shape[0]} rows\")\n",
    "print(f\"The dataset has {aviation_df.shape[1]} columns\")"
   ]
  },
  {
   "cell_type": "markdown",
   "metadata": {},
   "source": [
    "This dataset contains a total of `88889` rows and `31` columns. Next, we get the overall info of the dataset."
   ]
  },
  {
   "cell_type": "code",
   "execution_count": 87,
   "metadata": {},
   "outputs": [
    {
     "name": "stdout",
     "output_type": "stream",
     "text": [
      "<class 'pandas.core.frame.DataFrame'>\n",
      "RangeIndex: 88889 entries, 0 to 88888\n",
      "Data columns (total 31 columns):\n",
      " #   Column                  Non-Null Count  Dtype  \n",
      "---  ------                  --------------  -----  \n",
      " 0   Event.Id                88889 non-null  object \n",
      " 1   Investigation.Type      88889 non-null  object \n",
      " 2   Accident.Number         88889 non-null  object \n",
      " 3   Event.Date              88889 non-null  object \n",
      " 4   Location                88837 non-null  object \n",
      " 5   Country                 88663 non-null  object \n",
      " 6   Latitude                34382 non-null  object \n",
      " 7   Longitude               34373 non-null  object \n",
      " 8   Airport.Code            50249 non-null  object \n",
      " 9   Airport.Name            52790 non-null  object \n",
      " 10  Injury.Severity         87889 non-null  object \n",
      " 11  Aircraft.damage         85695 non-null  object \n",
      " 12  Aircraft.Category       32287 non-null  object \n",
      " 13  Registration.Number     87572 non-null  object \n",
      " 14  Make                    88826 non-null  object \n",
      " 15  Model                   88797 non-null  object \n",
      " 16  Amateur.Built           88787 non-null  object \n",
      " 17  Number.of.Engines       82805 non-null  float64\n",
      " 18  Engine.Type             81812 non-null  object \n",
      " 19  FAR.Description         32023 non-null  object \n",
      " 20  Schedule                12582 non-null  object \n",
      " 21  Purpose.of.flight       82697 non-null  object \n",
      " 22  Air.carrier             16648 non-null  object \n",
      " 23  Total.Fatal.Injuries    77488 non-null  float64\n",
      " 24  Total.Serious.Injuries  76379 non-null  float64\n",
      " 25  Total.Minor.Injuries    76956 non-null  float64\n",
      " 26  Total.Uninjured         82977 non-null  float64\n",
      " 27  Weather.Condition       84397 non-null  object \n",
      " 28  Broad.phase.of.flight   61724 non-null  object \n",
      " 29  Report.Status           82508 non-null  object \n",
      " 30  Publication.Date        75118 non-null  object \n",
      "dtypes: float64(5), object(26)\n",
      "memory usage: 21.0+ MB\n"
     ]
    }
   ],
   "source": [
    "# Get the info of the data\n",
    "aviation_df.info()"
   ]
  },
  {
   "cell_type": "markdown",
   "metadata": {},
   "source": [
    "The `info()` function gives us a comprehensive summary of the dataset, including the total number of entries, the data types of each column `(object, float64)`, and the number of entries in each column. We can see that some columns don't have the full number of entries, implying that they may be having some missing values."
   ]
  },
  {
   "cell_type": "code",
   "execution_count": 88,
   "metadata": {},
   "outputs": [
    {
     "data": {
      "application/vnd.microsoft.datawrangler.viewer.v0+json": {
       "columns": [
        {
         "name": "index",
         "rawType": "int64",
         "type": "integer"
        },
        {
         "name": "US_State",
         "rawType": "object",
         "type": "string"
        },
        {
         "name": "Abbreviation",
         "rawType": "object",
         "type": "string"
        }
       ],
       "conversionMethod": "pd.DataFrame",
       "ref": "3d295104-9fdd-4035-9037-f9807af3b0f1",
       "rows": [
        [
         "0",
         "Alabama",
         "AL"
        ],
        [
         "1",
         "Alaska",
         "AK"
        ],
        [
         "2",
         "Arizona",
         "AZ"
        ],
        [
         "3",
         "Arkansas",
         "AR"
        ],
        [
         "4",
         "California",
         "CA"
        ]
       ],
       "shape": {
        "columns": 2,
        "rows": 5
       }
      },
      "text/html": [
       "<div>\n",
       "<style scoped>\n",
       "    .dataframe tbody tr th:only-of-type {\n",
       "        vertical-align: middle;\n",
       "    }\n",
       "\n",
       "    .dataframe tbody tr th {\n",
       "        vertical-align: top;\n",
       "    }\n",
       "\n",
       "    .dataframe thead th {\n",
       "        text-align: right;\n",
       "    }\n",
       "</style>\n",
       "<table border=\"1\" class=\"dataframe\">\n",
       "  <thead>\n",
       "    <tr style=\"text-align: right;\">\n",
       "      <th></th>\n",
       "      <th>US_State</th>\n",
       "      <th>Abbreviation</th>\n",
       "    </tr>\n",
       "  </thead>\n",
       "  <tbody>\n",
       "    <tr>\n",
       "      <th>0</th>\n",
       "      <td>Alabama</td>\n",
       "      <td>AL</td>\n",
       "    </tr>\n",
       "    <tr>\n",
       "      <th>1</th>\n",
       "      <td>Alaska</td>\n",
       "      <td>AK</td>\n",
       "    </tr>\n",
       "    <tr>\n",
       "      <th>2</th>\n",
       "      <td>Arizona</td>\n",
       "      <td>AZ</td>\n",
       "    </tr>\n",
       "    <tr>\n",
       "      <th>3</th>\n",
       "      <td>Arkansas</td>\n",
       "      <td>AR</td>\n",
       "    </tr>\n",
       "    <tr>\n",
       "      <th>4</th>\n",
       "      <td>California</td>\n",
       "      <td>CA</td>\n",
       "    </tr>\n",
       "  </tbody>\n",
       "</table>\n",
       "</div>"
      ],
      "text/plain": [
       "     US_State Abbreviation\n",
       "0     Alabama           AL\n",
       "1      Alaska           AK\n",
       "2     Arizona           AZ\n",
       "3    Arkansas           AR\n",
       "4  California           CA"
      ]
     },
     "execution_count": 88,
     "metadata": {},
     "output_type": "execute_result"
    }
   ],
   "source": [
    "# Load the US State Codes dataset and display the first 5 rows\n",
    "us_codes_df = pd.read_csv('data/USState_Codes.csv', encoding='latin1')\n",
    "us_codes_df.head()"
   ]
  },
  {
   "cell_type": "code",
   "execution_count": 89,
   "metadata": {},
   "outputs": [
    {
     "name": "stdout",
     "output_type": "stream",
     "text": [
      "<class 'pandas.core.frame.DataFrame'>\n",
      "RangeIndex: 62 entries, 0 to 61\n",
      "Data columns (total 2 columns):\n",
      " #   Column        Non-Null Count  Dtype \n",
      "---  ------        --------------  ----- \n",
      " 0   US_State      62 non-null     object\n",
      " 1   Abbreviation  62 non-null     object\n",
      "dtypes: object(2)\n",
      "memory usage: 1.1+ KB\n"
     ]
    }
   ],
   "source": [
    "# Get the info of the data\n",
    "us_codes_df.info()"
   ]
  },
  {
   "cell_type": "markdown",
   "metadata": {},
   "source": [
    "Since the US State dataset only provides the state and its abbreviation, it is not very relevant in our analysis, and therefore will not be implemented. "
   ]
  },
  {
   "cell_type": "code",
   "execution_count": 90,
   "metadata": {},
   "outputs": [
    {
     "data": {
      "application/vnd.microsoft.datawrangler.viewer.v0+json": {
       "columns": [
        {
         "name": "index",
         "rawType": "object",
         "type": "string"
        },
        {
         "name": "Number.of.Engines",
         "rawType": "float64",
         "type": "float"
        },
        {
         "name": "Total.Fatal.Injuries",
         "rawType": "float64",
         "type": "float"
        },
        {
         "name": "Total.Serious.Injuries",
         "rawType": "float64",
         "type": "float"
        },
        {
         "name": "Total.Minor.Injuries",
         "rawType": "float64",
         "type": "float"
        },
        {
         "name": "Total.Uninjured",
         "rawType": "float64",
         "type": "float"
        }
       ],
       "conversionMethod": "pd.DataFrame",
       "ref": "0b6335e0-3a07-470c-a16e-4aea3a3d8434",
       "rows": [
        [
         "count",
         "82805.0",
         "77488.0",
         "76379.0",
         "76956.0",
         "82977.0"
        ],
        [
         "mean",
         "1.1465853511261397",
         "0.6478551517654346",
         "0.27988059545162935",
         "0.3570611778158948",
         "5.325439579642552"
        ],
        [
         "std",
         "0.4465102138196286",
         "5.485960107559197",
         "1.5440836452335867",
         "2.2356253196569336",
         "27.91363443100856"
        ],
        [
         "min",
         "0.0",
         "0.0",
         "0.0",
         "0.0",
         "0.0"
        ],
        [
         "25%",
         "1.0",
         "0.0",
         "0.0",
         "0.0",
         "0.0"
        ],
        [
         "50%",
         "1.0",
         "0.0",
         "0.0",
         "0.0",
         "1.0"
        ],
        [
         "75%",
         "1.0",
         "0.0",
         "0.0",
         "0.0",
         "2.0"
        ],
        [
         "max",
         "8.0",
         "349.0",
         "161.0",
         "380.0",
         "699.0"
        ]
       ],
       "shape": {
        "columns": 5,
        "rows": 8
       }
      },
      "text/html": [
       "<div>\n",
       "<style scoped>\n",
       "    .dataframe tbody tr th:only-of-type {\n",
       "        vertical-align: middle;\n",
       "    }\n",
       "\n",
       "    .dataframe tbody tr th {\n",
       "        vertical-align: top;\n",
       "    }\n",
       "\n",
       "    .dataframe thead th {\n",
       "        text-align: right;\n",
       "    }\n",
       "</style>\n",
       "<table border=\"1\" class=\"dataframe\">\n",
       "  <thead>\n",
       "    <tr style=\"text-align: right;\">\n",
       "      <th></th>\n",
       "      <th>Number.of.Engines</th>\n",
       "      <th>Total.Fatal.Injuries</th>\n",
       "      <th>Total.Serious.Injuries</th>\n",
       "      <th>Total.Minor.Injuries</th>\n",
       "      <th>Total.Uninjured</th>\n",
       "    </tr>\n",
       "  </thead>\n",
       "  <tbody>\n",
       "    <tr>\n",
       "      <th>count</th>\n",
       "      <td>82805.000000</td>\n",
       "      <td>77488.000000</td>\n",
       "      <td>76379.000000</td>\n",
       "      <td>76956.000000</td>\n",
       "      <td>82977.000000</td>\n",
       "    </tr>\n",
       "    <tr>\n",
       "      <th>mean</th>\n",
       "      <td>1.146585</td>\n",
       "      <td>0.647855</td>\n",
       "      <td>0.279881</td>\n",
       "      <td>0.357061</td>\n",
       "      <td>5.325440</td>\n",
       "    </tr>\n",
       "    <tr>\n",
       "      <th>std</th>\n",
       "      <td>0.446510</td>\n",
       "      <td>5.485960</td>\n",
       "      <td>1.544084</td>\n",
       "      <td>2.235625</td>\n",
       "      <td>27.913634</td>\n",
       "    </tr>\n",
       "    <tr>\n",
       "      <th>min</th>\n",
       "      <td>0.000000</td>\n",
       "      <td>0.000000</td>\n",
       "      <td>0.000000</td>\n",
       "      <td>0.000000</td>\n",
       "      <td>0.000000</td>\n",
       "    </tr>\n",
       "    <tr>\n",
       "      <th>25%</th>\n",
       "      <td>1.000000</td>\n",
       "      <td>0.000000</td>\n",
       "      <td>0.000000</td>\n",
       "      <td>0.000000</td>\n",
       "      <td>0.000000</td>\n",
       "    </tr>\n",
       "    <tr>\n",
       "      <th>50%</th>\n",
       "      <td>1.000000</td>\n",
       "      <td>0.000000</td>\n",
       "      <td>0.000000</td>\n",
       "      <td>0.000000</td>\n",
       "      <td>1.000000</td>\n",
       "    </tr>\n",
       "    <tr>\n",
       "      <th>75%</th>\n",
       "      <td>1.000000</td>\n",
       "      <td>0.000000</td>\n",
       "      <td>0.000000</td>\n",
       "      <td>0.000000</td>\n",
       "      <td>2.000000</td>\n",
       "    </tr>\n",
       "    <tr>\n",
       "      <th>max</th>\n",
       "      <td>8.000000</td>\n",
       "      <td>349.000000</td>\n",
       "      <td>161.000000</td>\n",
       "      <td>380.000000</td>\n",
       "      <td>699.000000</td>\n",
       "    </tr>\n",
       "  </tbody>\n",
       "</table>\n",
       "</div>"
      ],
      "text/plain": [
       "       Number.of.Engines  Total.Fatal.Injuries  Total.Serious.Injuries  \\\n",
       "count       82805.000000          77488.000000            76379.000000   \n",
       "mean            1.146585              0.647855                0.279881   \n",
       "std             0.446510              5.485960                1.544084   \n",
       "min             0.000000              0.000000                0.000000   \n",
       "25%             1.000000              0.000000                0.000000   \n",
       "50%             1.000000              0.000000                0.000000   \n",
       "75%             1.000000              0.000000                0.000000   \n",
       "max             8.000000            349.000000              161.000000   \n",
       "\n",
       "       Total.Minor.Injuries  Total.Uninjured  \n",
       "count          76956.000000     82977.000000  \n",
       "mean               0.357061         5.325440  \n",
       "std                2.235625        27.913634  \n",
       "min                0.000000         0.000000  \n",
       "25%                0.000000         0.000000  \n",
       "50%                0.000000         1.000000  \n",
       "75%                0.000000         2.000000  \n",
       "max              380.000000       699.000000  "
      ]
     },
     "execution_count": 90,
     "metadata": {},
     "output_type": "execute_result"
    }
   ],
   "source": [
    "# Get the summary statistics for the dataset\n",
    "aviation_df.describe()"
   ]
  },
  {
   "cell_type": "markdown",
   "metadata": {},
   "source": [
    "The `describe()` function gives a sumamry of the statistics of the dataset, including:\n",
    "- __Count:__ Total number of entries\n",
    "- __Mean:__ Average value\n",
    "- __Std:__ Standard deviation\n",
    "- __Min:__ Minimum value\n",
    "- __25th percentile:__ 25th percentile value\n",
    "- __50th percentile:__ 50th percentile value (median)\n",
    "- __75th percentile:__ 75th percentile value\n",
    "- __Max:__ Maximum value"
   ]
  },
  {
   "cell_type": "code",
   "execution_count": 91,
   "metadata": {},
   "outputs": [
    {
     "data": {
      "text/plain": [
       "Index(['Event.Id', 'Investigation.Type', 'Accident.Number', 'Event.Date',\n",
       "       'Location', 'Country', 'Latitude', 'Longitude', 'Airport.Code',\n",
       "       'Airport.Name', 'Injury.Severity', 'Aircraft.damage',\n",
       "       'Aircraft.Category', 'Registration.Number', 'Make', 'Model',\n",
       "       'Amateur.Built', 'Number.of.Engines', 'Engine.Type', 'FAR.Description',\n",
       "       'Schedule', 'Purpose.of.flight', 'Air.carrier', 'Total.Fatal.Injuries',\n",
       "       'Total.Serious.Injuries', 'Total.Minor.Injuries', 'Total.Uninjured',\n",
       "       'Weather.Condition', 'Broad.phase.of.flight', 'Report.Status',\n",
       "       'Publication.Date'],\n",
       "      dtype='object')"
      ]
     },
     "execution_count": 91,
     "metadata": {},
     "output_type": "execute_result"
    }
   ],
   "source": [
    "# Check the columns for the Aviation dataset\n",
    "aviation_df.columns"
   ]
  },
  {
   "cell_type": "markdown",
   "metadata": {},
   "source": [
    "The `columns` method gives all the columns present in the dataset."
   ]
  },
  {
   "cell_type": "code",
   "execution_count": 92,
   "metadata": {},
   "outputs": [
    {
     "data": {
      "text/plain": [
       "0"
      ]
     },
     "execution_count": 92,
     "metadata": {},
     "output_type": "execute_result"
    }
   ],
   "source": [
    "# Check for duplicate values\n",
    "aviation_df.duplicated().sum()"
   ]
  },
  {
   "cell_type": "markdown",
   "metadata": {},
   "source": [
    "The dataset doesn't have any duplicate entries.\n",
    "\n",
    "Now, let's check for null values in the Aviation dataset. We'll use the `isnull().sum()` function to count the number of null values in each column.\n"
   ]
  },
  {
   "cell_type": "code",
   "execution_count": 93,
   "metadata": {},
   "outputs": [
    {
     "name": "stdout",
     "output_type": "stream",
     "text": [
      "Schedule                  85.845268\n",
      "Air.carrier               81.271023\n",
      "FAR.Description           63.974170\n",
      "Aircraft.Category         63.677170\n",
      "Longitude                 61.330423\n",
      "Latitude                  61.320298\n",
      "Airport.Code              43.469946\n",
      "Airport.Name              40.611324\n",
      "Broad.phase.of.flight     30.560587\n",
      "Publication.Date          15.492356\n",
      "Total.Serious.Injuries    14.073732\n",
      "Total.Minor.Injuries      13.424608\n",
      "Total.Fatal.Injuries      12.826109\n",
      "Engine.Type                7.961615\n",
      "Report.Status              7.178616\n",
      "Purpose.of.flight          6.965991\n",
      "Number.of.Engines          6.844491\n",
      "Total.Uninjured            6.650992\n",
      "Weather.Condition          5.053494\n",
      "Aircraft.damage            3.593246\n",
      "Registration.Number        1.481623\n",
      "Injury.Severity            1.124999\n",
      "Country                    0.254250\n",
      "Amateur.Built              0.114750\n",
      "Model                      0.103500\n",
      "Make                       0.070875\n",
      "Location                   0.058500\n",
      "dtype: float64\n"
     ]
    }
   ],
   "source": [
    "# Check for null values in the Aviation dataset as a percentage for each column\n",
    "null_percentage = (aviation_df.isnull().sum() / len(aviation_df)) * 100\n",
    "\n",
    "# Display the columns with missing values, and their percentages in descending order\n",
    "null_percentage = null_percentage[null_percentage > 0].sort_values(ascending=False)\n",
    "print(null_percentage)"
   ]
  },
  {
   "cell_type": "markdown",
   "metadata": {},
   "source": [
    "Some columns in the dataset have a high percentage of missing values. Therefore, I will use a threshold of 50% to ddrop columns with excessive missing values."
   ]
  },
  {
   "cell_type": "code",
   "execution_count": 94,
   "metadata": {},
   "outputs": [
    {
     "name": "stdout",
     "output_type": "stream",
     "text": [
      "Dropped 6 columns with more than 50% missing values\n"
     ]
    },
    {
     "data": {
      "application/vnd.microsoft.datawrangler.viewer.v0+json": {
       "columns": [
        {
         "name": "index",
         "rawType": "int64",
         "type": "integer"
        },
        {
         "name": "Event.Id",
         "rawType": "object",
         "type": "string"
        },
        {
         "name": "Investigation.Type",
         "rawType": "object",
         "type": "string"
        },
        {
         "name": "Accident.Number",
         "rawType": "object",
         "type": "string"
        },
        {
         "name": "Event.Date",
         "rawType": "object",
         "type": "string"
        },
        {
         "name": "Location",
         "rawType": "object",
         "type": "string"
        },
        {
         "name": "Country",
         "rawType": "object",
         "type": "string"
        },
        {
         "name": "Airport.Code",
         "rawType": "object",
         "type": "string"
        },
        {
         "name": "Airport.Name",
         "rawType": "object",
         "type": "string"
        },
        {
         "name": "Injury.Severity",
         "rawType": "object",
         "type": "string"
        },
        {
         "name": "Aircraft.damage",
         "rawType": "object",
         "type": "string"
        },
        {
         "name": "Registration.Number",
         "rawType": "object",
         "type": "string"
        },
        {
         "name": "Make",
         "rawType": "object",
         "type": "string"
        },
        {
         "name": "Model",
         "rawType": "object",
         "type": "string"
        },
        {
         "name": "Amateur.Built",
         "rawType": "object",
         "type": "string"
        },
        {
         "name": "Number.of.Engines",
         "rawType": "float64",
         "type": "float"
        },
        {
         "name": "Engine.Type",
         "rawType": "object",
         "type": "string"
        },
        {
         "name": "Purpose.of.flight",
         "rawType": "object",
         "type": "string"
        },
        {
         "name": "Total.Fatal.Injuries",
         "rawType": "float64",
         "type": "float"
        },
        {
         "name": "Total.Serious.Injuries",
         "rawType": "float64",
         "type": "float"
        },
        {
         "name": "Total.Minor.Injuries",
         "rawType": "float64",
         "type": "float"
        },
        {
         "name": "Total.Uninjured",
         "rawType": "float64",
         "type": "float"
        },
        {
         "name": "Weather.Condition",
         "rawType": "object",
         "type": "string"
        },
        {
         "name": "Broad.phase.of.flight",
         "rawType": "object",
         "type": "string"
        },
        {
         "name": "Report.Status",
         "rawType": "object",
         "type": "string"
        },
        {
         "name": "Publication.Date",
         "rawType": "object",
         "type": "string"
        }
       ],
       "conversionMethod": "pd.DataFrame",
       "ref": "e92e4606-465d-45a1-bee0-e89d9a98d303",
       "rows": [
        [
         "0",
         "20001218X45444",
         "Accident",
         "SEA87LA080",
         "1948-10-24",
         "MOOSE CREEK, ID",
         "United States",
         null,
         null,
         "Fatal(2)",
         "Destroyed",
         "NC6404",
         "Stinson",
         "108-3",
         "No",
         "1.0",
         "Reciprocating",
         "Personal",
         "2.0",
         "0.0",
         "0.0",
         "0.0",
         "UNK",
         "Cruise",
         "Probable Cause",
         null
        ],
        [
         "1",
         "20001218X45447",
         "Accident",
         "LAX94LA336",
         "1962-07-19",
         "BRIDGEPORT, CA",
         "United States",
         null,
         null,
         "Fatal(4)",
         "Destroyed",
         "N5069P",
         "Piper",
         "PA24-180",
         "No",
         "1.0",
         "Reciprocating",
         "Personal",
         "4.0",
         "0.0",
         "0.0",
         "0.0",
         "UNK",
         "Unknown",
         "Probable Cause",
         "19-09-1996"
        ],
        [
         "2",
         "20061025X01555",
         "Accident",
         "NYC07LA005",
         "1974-08-30",
         "Saltville, VA",
         "United States",
         null,
         null,
         "Fatal(3)",
         "Destroyed",
         "N5142R",
         "Cessna",
         "172M",
         "No",
         "1.0",
         "Reciprocating",
         "Personal",
         "3.0",
         null,
         null,
         null,
         "IMC",
         "Cruise",
         "Probable Cause",
         "26-02-2007"
        ],
        [
         "3",
         "20001218X45448",
         "Accident",
         "LAX96LA321",
         "1977-06-19",
         "EUREKA, CA",
         "United States",
         null,
         null,
         "Fatal(2)",
         "Destroyed",
         "N1168J",
         "Rockwell",
         "112",
         "No",
         "1.0",
         "Reciprocating",
         "Personal",
         "2.0",
         "0.0",
         "0.0",
         "0.0",
         "IMC",
         "Cruise",
         "Probable Cause",
         "12-09-2000"
        ],
        [
         "4",
         "20041105X01764",
         "Accident",
         "CHI79FA064",
         "1979-08-02",
         "Canton, OH",
         "United States",
         null,
         null,
         "Fatal(1)",
         "Destroyed",
         "N15NY",
         "Cessna",
         "501",
         "No",
         null,
         null,
         "Personal",
         "1.0",
         "2.0",
         null,
         "0.0",
         "VMC",
         "Approach",
         "Probable Cause",
         "16-04-1980"
        ]
       ],
       "shape": {
        "columns": 25,
        "rows": 5
       }
      },
      "text/html": [
       "<div>\n",
       "<style scoped>\n",
       "    .dataframe tbody tr th:only-of-type {\n",
       "        vertical-align: middle;\n",
       "    }\n",
       "\n",
       "    .dataframe tbody tr th {\n",
       "        vertical-align: top;\n",
       "    }\n",
       "\n",
       "    .dataframe thead th {\n",
       "        text-align: right;\n",
       "    }\n",
       "</style>\n",
       "<table border=\"1\" class=\"dataframe\">\n",
       "  <thead>\n",
       "    <tr style=\"text-align: right;\">\n",
       "      <th></th>\n",
       "      <th>Event.Id</th>\n",
       "      <th>Investigation.Type</th>\n",
       "      <th>Accident.Number</th>\n",
       "      <th>Event.Date</th>\n",
       "      <th>Location</th>\n",
       "      <th>Country</th>\n",
       "      <th>Airport.Code</th>\n",
       "      <th>Airport.Name</th>\n",
       "      <th>Injury.Severity</th>\n",
       "      <th>Aircraft.damage</th>\n",
       "      <th>...</th>\n",
       "      <th>Engine.Type</th>\n",
       "      <th>Purpose.of.flight</th>\n",
       "      <th>Total.Fatal.Injuries</th>\n",
       "      <th>Total.Serious.Injuries</th>\n",
       "      <th>Total.Minor.Injuries</th>\n",
       "      <th>Total.Uninjured</th>\n",
       "      <th>Weather.Condition</th>\n",
       "      <th>Broad.phase.of.flight</th>\n",
       "      <th>Report.Status</th>\n",
       "      <th>Publication.Date</th>\n",
       "    </tr>\n",
       "  </thead>\n",
       "  <tbody>\n",
       "    <tr>\n",
       "      <th>0</th>\n",
       "      <td>20001218X45444</td>\n",
       "      <td>Accident</td>\n",
       "      <td>SEA87LA080</td>\n",
       "      <td>1948-10-24</td>\n",
       "      <td>MOOSE CREEK, ID</td>\n",
       "      <td>United States</td>\n",
       "      <td>NaN</td>\n",
       "      <td>NaN</td>\n",
       "      <td>Fatal(2)</td>\n",
       "      <td>Destroyed</td>\n",
       "      <td>...</td>\n",
       "      <td>Reciprocating</td>\n",
       "      <td>Personal</td>\n",
       "      <td>2.0</td>\n",
       "      <td>0.0</td>\n",
       "      <td>0.0</td>\n",
       "      <td>0.0</td>\n",
       "      <td>UNK</td>\n",
       "      <td>Cruise</td>\n",
       "      <td>Probable Cause</td>\n",
       "      <td>NaN</td>\n",
       "    </tr>\n",
       "    <tr>\n",
       "      <th>1</th>\n",
       "      <td>20001218X45447</td>\n",
       "      <td>Accident</td>\n",
       "      <td>LAX94LA336</td>\n",
       "      <td>1962-07-19</td>\n",
       "      <td>BRIDGEPORT, CA</td>\n",
       "      <td>United States</td>\n",
       "      <td>NaN</td>\n",
       "      <td>NaN</td>\n",
       "      <td>Fatal(4)</td>\n",
       "      <td>Destroyed</td>\n",
       "      <td>...</td>\n",
       "      <td>Reciprocating</td>\n",
       "      <td>Personal</td>\n",
       "      <td>4.0</td>\n",
       "      <td>0.0</td>\n",
       "      <td>0.0</td>\n",
       "      <td>0.0</td>\n",
       "      <td>UNK</td>\n",
       "      <td>Unknown</td>\n",
       "      <td>Probable Cause</td>\n",
       "      <td>19-09-1996</td>\n",
       "    </tr>\n",
       "    <tr>\n",
       "      <th>2</th>\n",
       "      <td>20061025X01555</td>\n",
       "      <td>Accident</td>\n",
       "      <td>NYC07LA005</td>\n",
       "      <td>1974-08-30</td>\n",
       "      <td>Saltville, VA</td>\n",
       "      <td>United States</td>\n",
       "      <td>NaN</td>\n",
       "      <td>NaN</td>\n",
       "      <td>Fatal(3)</td>\n",
       "      <td>Destroyed</td>\n",
       "      <td>...</td>\n",
       "      <td>Reciprocating</td>\n",
       "      <td>Personal</td>\n",
       "      <td>3.0</td>\n",
       "      <td>NaN</td>\n",
       "      <td>NaN</td>\n",
       "      <td>NaN</td>\n",
       "      <td>IMC</td>\n",
       "      <td>Cruise</td>\n",
       "      <td>Probable Cause</td>\n",
       "      <td>26-02-2007</td>\n",
       "    </tr>\n",
       "    <tr>\n",
       "      <th>3</th>\n",
       "      <td>20001218X45448</td>\n",
       "      <td>Accident</td>\n",
       "      <td>LAX96LA321</td>\n",
       "      <td>1977-06-19</td>\n",
       "      <td>EUREKA, CA</td>\n",
       "      <td>United States</td>\n",
       "      <td>NaN</td>\n",
       "      <td>NaN</td>\n",
       "      <td>Fatal(2)</td>\n",
       "      <td>Destroyed</td>\n",
       "      <td>...</td>\n",
       "      <td>Reciprocating</td>\n",
       "      <td>Personal</td>\n",
       "      <td>2.0</td>\n",
       "      <td>0.0</td>\n",
       "      <td>0.0</td>\n",
       "      <td>0.0</td>\n",
       "      <td>IMC</td>\n",
       "      <td>Cruise</td>\n",
       "      <td>Probable Cause</td>\n",
       "      <td>12-09-2000</td>\n",
       "    </tr>\n",
       "    <tr>\n",
       "      <th>4</th>\n",
       "      <td>20041105X01764</td>\n",
       "      <td>Accident</td>\n",
       "      <td>CHI79FA064</td>\n",
       "      <td>1979-08-02</td>\n",
       "      <td>Canton, OH</td>\n",
       "      <td>United States</td>\n",
       "      <td>NaN</td>\n",
       "      <td>NaN</td>\n",
       "      <td>Fatal(1)</td>\n",
       "      <td>Destroyed</td>\n",
       "      <td>...</td>\n",
       "      <td>NaN</td>\n",
       "      <td>Personal</td>\n",
       "      <td>1.0</td>\n",
       "      <td>2.0</td>\n",
       "      <td>NaN</td>\n",
       "      <td>0.0</td>\n",
       "      <td>VMC</td>\n",
       "      <td>Approach</td>\n",
       "      <td>Probable Cause</td>\n",
       "      <td>16-04-1980</td>\n",
       "    </tr>\n",
       "  </tbody>\n",
       "</table>\n",
       "<p>5 rows × 25 columns</p>\n",
       "</div>"
      ],
      "text/plain": [
       "         Event.Id Investigation.Type Accident.Number  Event.Date  \\\n",
       "0  20001218X45444           Accident      SEA87LA080  1948-10-24   \n",
       "1  20001218X45447           Accident      LAX94LA336  1962-07-19   \n",
       "2  20061025X01555           Accident      NYC07LA005  1974-08-30   \n",
       "3  20001218X45448           Accident      LAX96LA321  1977-06-19   \n",
       "4  20041105X01764           Accident      CHI79FA064  1979-08-02   \n",
       "\n",
       "          Location        Country Airport.Code Airport.Name Injury.Severity  \\\n",
       "0  MOOSE CREEK, ID  United States          NaN          NaN        Fatal(2)   \n",
       "1   BRIDGEPORT, CA  United States          NaN          NaN        Fatal(4)   \n",
       "2    Saltville, VA  United States          NaN          NaN        Fatal(3)   \n",
       "3       EUREKA, CA  United States          NaN          NaN        Fatal(2)   \n",
       "4       Canton, OH  United States          NaN          NaN        Fatal(1)   \n",
       "\n",
       "  Aircraft.damage  ...    Engine.Type Purpose.of.flight Total.Fatal.Injuries  \\\n",
       "0       Destroyed  ...  Reciprocating          Personal                  2.0   \n",
       "1       Destroyed  ...  Reciprocating          Personal                  4.0   \n",
       "2       Destroyed  ...  Reciprocating          Personal                  3.0   \n",
       "3       Destroyed  ...  Reciprocating          Personal                  2.0   \n",
       "4       Destroyed  ...            NaN          Personal                  1.0   \n",
       "\n",
       "  Total.Serious.Injuries  Total.Minor.Injuries Total.Uninjured  \\\n",
       "0                    0.0                   0.0             0.0   \n",
       "1                    0.0                   0.0             0.0   \n",
       "2                    NaN                   NaN             NaN   \n",
       "3                    0.0                   0.0             0.0   \n",
       "4                    2.0                   NaN             0.0   \n",
       "\n",
       "  Weather.Condition  Broad.phase.of.flight   Report.Status  Publication.Date  \n",
       "0               UNK                 Cruise  Probable Cause               NaN  \n",
       "1               UNK                Unknown  Probable Cause        19-09-1996  \n",
       "2               IMC                 Cruise  Probable Cause        26-02-2007  \n",
       "3               IMC                 Cruise  Probable Cause        12-09-2000  \n",
       "4               VMC               Approach  Probable Cause        16-04-1980  \n",
       "\n",
       "[5 rows x 25 columns]"
      ]
     },
     "execution_count": 94,
     "metadata": {},
     "output_type": "execute_result"
    }
   ],
   "source": [
    "# Define a threshold\n",
    "drop_threshold = 50\n",
    "columns_to_drop = null_percentage[null_percentage > drop_threshold].index\n",
    "\n",
    "# Drop the columns exceeding the threshold\n",
    "aviation_df_clean = aviation_df.drop(columns=columns_to_drop)\n",
    "\n",
    "# Display number of columns dropped\n",
    "print(f\"Dropped {len(columns_to_drop)} columns with more than {drop_threshold}% missing values\")\n",
    "\n",
    "# Display first 5 rows of data\n",
    "aviation_df_clean.head()"
   ]
  },
  {
   "cell_type": "markdown",
   "metadata": {},
   "source": [
    "I have dropped 6 columns that had more than 50% of missing values.\n",
    "Next, I will drop rows with missing critical values."
   ]
  },
  {
   "cell_type": "code",
   "execution_count": 95,
   "metadata": {},
   "outputs": [
    {
     "name": "stdout",
     "output_type": "stream",
     "text": [
      "<class 'pandas.core.frame.DataFrame'>\n",
      "RangeIndex: 88889 entries, 0 to 88888\n",
      "Data columns (total 25 columns):\n",
      " #   Column                  Non-Null Count  Dtype  \n",
      "---  ------                  --------------  -----  \n",
      " 0   Event.Id                88889 non-null  object \n",
      " 1   Investigation.Type      88889 non-null  object \n",
      " 2   Accident.Number         88889 non-null  object \n",
      " 3   Event.Date              88889 non-null  object \n",
      " 4   Location                88837 non-null  object \n",
      " 5   Country                 88663 non-null  object \n",
      " 6   Airport.Code            50249 non-null  object \n",
      " 7   Airport.Name            52790 non-null  object \n",
      " 8   Injury.Severity         87889 non-null  object \n",
      " 9   Aircraft.damage         85695 non-null  object \n",
      " 10  Registration.Number     87572 non-null  object \n",
      " 11  Make                    88826 non-null  object \n",
      " 12  Model                   88797 non-null  object \n",
      " 13  Amateur.Built           88787 non-null  object \n",
      " 14  Number.of.Engines       82805 non-null  float64\n",
      " 15  Engine.Type             81812 non-null  object \n",
      " 16  Purpose.of.flight       82697 non-null  object \n",
      " 17  Total.Fatal.Injuries    77488 non-null  float64\n",
      " 18  Total.Serious.Injuries  76379 non-null  float64\n",
      " 19  Total.Minor.Injuries    76956 non-null  float64\n",
      " 20  Total.Uninjured         82977 non-null  float64\n",
      " 21  Weather.Condition       84397 non-null  object \n",
      " 22  Broad.phase.of.flight   61724 non-null  object \n",
      " 23  Report.Status           82508 non-null  object \n",
      " 24  Publication.Date        75118 non-null  object \n",
      "dtypes: float64(5), object(20)\n",
      "memory usage: 17.0+ MB\n"
     ]
    }
   ],
   "source": [
    "# Check the data info again\n",
    "aviation_df_clean.info()"
   ]
  },
  {
   "cell_type": "markdown",
   "metadata": {},
   "source": [
    "I have dropped a total of `6 columns` that had more than 50% of their data as missing values. Next, I will drop some rows for the columns with the least number of missing values."
   ]
  },
  {
   "cell_type": "code",
   "execution_count": 96,
   "metadata": {},
   "outputs": [
    {
     "data": {
      "application/vnd.microsoft.datawrangler.viewer.v0+json": {
       "columns": [
        {
         "name": "index",
         "rawType": "int64",
         "type": "integer"
        },
        {
         "name": "Event.Id",
         "rawType": "object",
         "type": "string"
        },
        {
         "name": "Investigation.Type",
         "rawType": "object",
         "type": "string"
        },
        {
         "name": "Accident.Number",
         "rawType": "object",
         "type": "string"
        },
        {
         "name": "Event.Date",
         "rawType": "object",
         "type": "string"
        },
        {
         "name": "Location",
         "rawType": "object",
         "type": "string"
        },
        {
         "name": "Country",
         "rawType": "object",
         "type": "string"
        },
        {
         "name": "Airport.Code",
         "rawType": "object",
         "type": "string"
        },
        {
         "name": "Airport.Name",
         "rawType": "object",
         "type": "string"
        },
        {
         "name": "Injury.Severity",
         "rawType": "object",
         "type": "string"
        },
        {
         "name": "Aircraft.damage",
         "rawType": "object",
         "type": "string"
        },
        {
         "name": "Registration.Number",
         "rawType": "object",
         "type": "string"
        },
        {
         "name": "Make",
         "rawType": "object",
         "type": "string"
        },
        {
         "name": "Model",
         "rawType": "object",
         "type": "string"
        },
        {
         "name": "Amateur.Built",
         "rawType": "object",
         "type": "string"
        },
        {
         "name": "Number.of.Engines",
         "rawType": "float64",
         "type": "float"
        },
        {
         "name": "Engine.Type",
         "rawType": "object",
         "type": "string"
        },
        {
         "name": "Purpose.of.flight",
         "rawType": "object",
         "type": "string"
        },
        {
         "name": "Total.Fatal.Injuries",
         "rawType": "float64",
         "type": "float"
        },
        {
         "name": "Total.Serious.Injuries",
         "rawType": "float64",
         "type": "float"
        },
        {
         "name": "Total.Minor.Injuries",
         "rawType": "float64",
         "type": "float"
        },
        {
         "name": "Total.Uninjured",
         "rawType": "float64",
         "type": "float"
        },
        {
         "name": "Weather.Condition",
         "rawType": "object",
         "type": "string"
        },
        {
         "name": "Broad.phase.of.flight",
         "rawType": "object",
         "type": "string"
        },
        {
         "name": "Report.Status",
         "rawType": "object",
         "type": "string"
        },
        {
         "name": "Publication.Date",
         "rawType": "object",
         "type": "string"
        }
       ],
       "conversionMethod": "pd.DataFrame",
       "ref": "008b417b-71b6-4acc-ab69-0a21f944e3ff",
       "rows": [
        [
         "0",
         "20001218X45444",
         "Accident",
         "SEA87LA080",
         "1948-10-24",
         "MOOSE CREEK, ID",
         "United States",
         null,
         null,
         "Fatal(2)",
         "Destroyed",
         "NC6404",
         "Stinson",
         "108-3",
         "No",
         "1.0",
         "Reciprocating",
         "Personal",
         "2.0",
         "0.0",
         "0.0",
         "0.0",
         "UNK",
         "Cruise",
         "Probable Cause",
         null
        ]
       ],
       "shape": {
        "columns": 25,
        "rows": 1
       }
      },
      "text/html": [
       "<div>\n",
       "<style scoped>\n",
       "    .dataframe tbody tr th:only-of-type {\n",
       "        vertical-align: middle;\n",
       "    }\n",
       "\n",
       "    .dataframe tbody tr th {\n",
       "        vertical-align: top;\n",
       "    }\n",
       "\n",
       "    .dataframe thead th {\n",
       "        text-align: right;\n",
       "    }\n",
       "</style>\n",
       "<table border=\"1\" class=\"dataframe\">\n",
       "  <thead>\n",
       "    <tr style=\"text-align: right;\">\n",
       "      <th></th>\n",
       "      <th>Event.Id</th>\n",
       "      <th>Investigation.Type</th>\n",
       "      <th>Accident.Number</th>\n",
       "      <th>Event.Date</th>\n",
       "      <th>Location</th>\n",
       "      <th>Country</th>\n",
       "      <th>Airport.Code</th>\n",
       "      <th>Airport.Name</th>\n",
       "      <th>Injury.Severity</th>\n",
       "      <th>Aircraft.damage</th>\n",
       "      <th>...</th>\n",
       "      <th>Engine.Type</th>\n",
       "      <th>Purpose.of.flight</th>\n",
       "      <th>Total.Fatal.Injuries</th>\n",
       "      <th>Total.Serious.Injuries</th>\n",
       "      <th>Total.Minor.Injuries</th>\n",
       "      <th>Total.Uninjured</th>\n",
       "      <th>Weather.Condition</th>\n",
       "      <th>Broad.phase.of.flight</th>\n",
       "      <th>Report.Status</th>\n",
       "      <th>Publication.Date</th>\n",
       "    </tr>\n",
       "  </thead>\n",
       "  <tbody>\n",
       "    <tr>\n",
       "      <th>0</th>\n",
       "      <td>20001218X45444</td>\n",
       "      <td>Accident</td>\n",
       "      <td>SEA87LA080</td>\n",
       "      <td>1948-10-24</td>\n",
       "      <td>MOOSE CREEK, ID</td>\n",
       "      <td>United States</td>\n",
       "      <td>NaN</td>\n",
       "      <td>NaN</td>\n",
       "      <td>Fatal(2)</td>\n",
       "      <td>Destroyed</td>\n",
       "      <td>...</td>\n",
       "      <td>Reciprocating</td>\n",
       "      <td>Personal</td>\n",
       "      <td>2.0</td>\n",
       "      <td>0.0</td>\n",
       "      <td>0.0</td>\n",
       "      <td>0.0</td>\n",
       "      <td>UNK</td>\n",
       "      <td>Cruise</td>\n",
       "      <td>Probable Cause</td>\n",
       "      <td>NaN</td>\n",
       "    </tr>\n",
       "  </tbody>\n",
       "</table>\n",
       "<p>1 rows × 25 columns</p>\n",
       "</div>"
      ],
      "text/plain": [
       "         Event.Id Investigation.Type Accident.Number  Event.Date  \\\n",
       "0  20001218X45444           Accident      SEA87LA080  1948-10-24   \n",
       "\n",
       "          Location        Country Airport.Code Airport.Name Injury.Severity  \\\n",
       "0  MOOSE CREEK, ID  United States          NaN          NaN        Fatal(2)   \n",
       "\n",
       "  Aircraft.damage  ...    Engine.Type Purpose.of.flight Total.Fatal.Injuries  \\\n",
       "0       Destroyed  ...  Reciprocating          Personal                  2.0   \n",
       "\n",
       "  Total.Serious.Injuries  Total.Minor.Injuries Total.Uninjured  \\\n",
       "0                    0.0                   0.0             0.0   \n",
       "\n",
       "  Weather.Condition  Broad.phase.of.flight   Report.Status  Publication.Date  \n",
       "0               UNK                 Cruise  Probable Cause               NaN  \n",
       "\n",
       "[1 rows x 25 columns]"
      ]
     },
     "execution_count": 96,
     "metadata": {},
     "output_type": "execute_result"
    }
   ],
   "source": [
    "# Drop rows from the columns with the least number of missing values\n",
    "aviation_df_clean = aviation_df_clean.dropna(subset=['Make', 'Model', 'Amateur.Built', 'Location', 'Country'], axis=0)\n",
    "\n",
    "# Display the first row of the cleaned data\n",
    "aviation_df_clean.head(1)"
   ]
  },
  {
   "cell_type": "code",
   "execution_count": 97,
   "metadata": {},
   "outputs": [
    {
     "name": "stdout",
     "output_type": "stream",
     "text": [
      "<class 'pandas.core.frame.DataFrame'>\n",
      "Int64Index: 88406 entries, 0 to 88888\n",
      "Data columns (total 25 columns):\n",
      " #   Column                  Non-Null Count  Dtype  \n",
      "---  ------                  --------------  -----  \n",
      " 0   Event.Id                88406 non-null  object \n",
      " 1   Investigation.Type      88406 non-null  object \n",
      " 2   Accident.Number         88406 non-null  object \n",
      " 3   Event.Date              88406 non-null  object \n",
      " 4   Location                88406 non-null  object \n",
      " 5   Country                 88406 non-null  object \n",
      " 6   Airport.Code            50135 non-null  object \n",
      " 7   Airport.Name            52655 non-null  object \n",
      " 8   Injury.Severity         87427 non-null  object \n",
      " 9   Aircraft.damage         85272 non-null  object \n",
      " 10  Registration.Number     87221 non-null  object \n",
      " 11  Make                    88406 non-null  object \n",
      " 12  Model                   88406 non-null  object \n",
      " 13  Amateur.Built           88406 non-null  object \n",
      " 14  Number.of.Engines       82493 non-null  float64\n",
      " 15  Engine.Type             81485 non-null  object \n",
      " 16  Purpose.of.flight       82346 non-null  object \n",
      " 17  Total.Fatal.Injuries    77107 non-null  float64\n",
      " 18  Total.Serious.Injuries  76028 non-null  float64\n",
      " 19  Total.Minor.Injuries    76609 non-null  float64\n",
      " 20  Total.Uninjured         82593 non-null  float64\n",
      " 21  Weather.Condition       84031 non-null  object \n",
      " 22  Broad.phase.of.flight   61436 non-null  object \n",
      " 23  Report.Status           82071 non-null  object \n",
      " 24  Publication.Date        74720 non-null  object \n",
      "dtypes: float64(5), object(20)\n",
      "memory usage: 17.5+ MB\n"
     ]
    }
   ],
   "source": [
    "# Check the info again\n",
    "aviation_df_clean.info()"
   ]
  },
  {
   "cell_type": "markdown",
   "metadata": {},
   "source": [
    "The data now has a total of 25 columns, with some of the rows that had missing values being taken care of."
   ]
  },
  {
   "cell_type": "markdown",
   "metadata": {},
   "source": [
    "### Filling Missing values\n",
    "Since our dataset has two types of columns `(numerical and categorical)`, we need to devise a method to fill the missing values for each type of column.\n",
    " - For numerical columns, we can use the `mean` or `median` to fill in the missing values\n",
    " - For categorical columns, we can use the `mode` or `Unknown` to fill in the missing values\n",
    "Let's first start with the numerical columns:"
   ]
  },
  {
   "cell_type": "code",
   "execution_count": 98,
   "metadata": {},
   "outputs": [],
   "source": [
    "# Filling numerical columns with the mean and median values\n",
    "aviation_df_clean['Total.Fatal.Injuries'] = aviation_df_clean['Total.Fatal.Injuries'].fillna(aviation_df_clean['Total.Fatal.Injuries'].mean())\n",
    "aviation_df_clean['Total.Serious.Injuries'] = aviation_df_clean['Total.Serious.Injuries'].fillna(aviation_df_clean['Total.Serious.Injuries'].mean())\n",
    "aviation_df_clean['Total.Minor.Injuries'] = aviation_df_clean['Total.Minor.Injuries'].fillna(aviation_df_clean['Total.Minor.Injuries'].mean())\n",
    "aviation_df_clean['Total.Uninjured'] = aviation_df_clean['Total.Uninjured'].fillna(aviation_df_clean['Total.Uninjured'].mean())\n",
    "aviation_df_clean['Number.of.Engines'] = aviation_df_clean['Number.of.Engines'].fillna(aviation_df_clean['Number.of.Engines'].median())"
   ]
  },
  {
   "cell_type": "markdown",
   "metadata": {},
   "source": [
    "We can check the info of the cleaned dataset again just to make sure we have dealt with the numerical columns"
   ]
  },
  {
   "cell_type": "code",
   "execution_count": 99,
   "metadata": {},
   "outputs": [
    {
     "name": "stdout",
     "output_type": "stream",
     "text": [
      "<class 'pandas.core.frame.DataFrame'>\n",
      "Int64Index: 88406 entries, 0 to 88888\n",
      "Data columns (total 25 columns):\n",
      " #   Column                  Non-Null Count  Dtype  \n",
      "---  ------                  --------------  -----  \n",
      " 0   Event.Id                88406 non-null  object \n",
      " 1   Investigation.Type      88406 non-null  object \n",
      " 2   Accident.Number         88406 non-null  object \n",
      " 3   Event.Date              88406 non-null  object \n",
      " 4   Location                88406 non-null  object \n",
      " 5   Country                 88406 non-null  object \n",
      " 6   Airport.Code            50135 non-null  object \n",
      " 7   Airport.Name            52655 non-null  object \n",
      " 8   Injury.Severity         87427 non-null  object \n",
      " 9   Aircraft.damage         85272 non-null  object \n",
      " 10  Registration.Number     87221 non-null  object \n",
      " 11  Make                    88406 non-null  object \n",
      " 12  Model                   88406 non-null  object \n",
      " 13  Amateur.Built           88406 non-null  object \n",
      " 14  Number.of.Engines       88406 non-null  float64\n",
      " 15  Engine.Type             81485 non-null  object \n",
      " 16  Purpose.of.flight       82346 non-null  object \n",
      " 17  Total.Fatal.Injuries    88406 non-null  float64\n",
      " 18  Total.Serious.Injuries  88406 non-null  float64\n",
      " 19  Total.Minor.Injuries    88406 non-null  float64\n",
      " 20  Total.Uninjured         88406 non-null  float64\n",
      " 21  Weather.Condition       84031 non-null  object \n",
      " 22  Broad.phase.of.flight   61436 non-null  object \n",
      " 23  Report.Status           82071 non-null  object \n",
      " 24  Publication.Date        74720 non-null  object \n",
      "dtypes: float64(5), object(20)\n",
      "memory usage: 17.5+ MB\n"
     ]
    }
   ],
   "source": [
    "aviation_df_clean.info()"
   ]
  },
  {
   "cell_type": "markdown",
   "metadata": {},
   "source": [
    "From the info() function, we have dealt with the numerical columns of the data type `float64` by filling in the missing values with the mean.\n",
    "\n",
    "Next, we will deal with the categorical columns. But first, let's see all the categorical columns with missing values."
   ]
  },
  {
   "cell_type": "code",
   "execution_count": 100,
   "metadata": {},
   "outputs": [
    {
     "name": "stdout",
     "output_type": "stream",
     "text": [
      "Airport.Code             43.054821\n",
      "Airport.Name             40.219825\n",
      "Broad.phase.of.flight    30.341212\n",
      "Publication.Date         15.396731\n",
      "Engine.Type               7.786115\n",
      "Report.Status             7.126866\n",
      "Purpose.of.flight         6.817491\n",
      "Weather.Condition         4.921869\n",
      "Aircraft.damage           3.525746\n",
      "Registration.Number       1.333123\n",
      "Injury.Severity           1.101374\n",
      "dtype: float64\n"
     ]
    }
   ],
   "source": [
    "# Select only categorical columns\n",
    "categorical_cols = aviation_df_clean.select_dtypes(include=['object'])\n",
    "\n",
    "# Check for null values in the Categorical columns as a percentage\n",
    "categorical_null = (categorical_cols.isnull().sum() / len(aviation_df)) * 100\n",
    "\n",
    "# Display the categorical columns with missing values, and their percentages in descending order\n",
    "categorical_null = categorical_null[categorical_null > 0].sort_values(ascending=False)\n",
    "print(categorical_null)"
   ]
  },
  {
   "cell_type": "markdown",
   "metadata": {},
   "source": [
    "Now that we know all the categorical columns with missing values, it's time to deal with them.\n",
    "\n",
    "We will fill the categorical columns with two approaches:\n",
    " 1. Fill the columns with missing values that account for less than `10%` with __Mode__\n",
    " 2. Fill the columns with missing values that account for between `10%` and `30%` with __\"Unknown\"__\n",
    " 3. Fill the columns with missing values that account for more than `30%` with __Forward fill (ffill)__ or __Backward fill (bfill)__ "
   ]
  },
  {
   "cell_type": "code",
   "execution_count": 101,
   "metadata": {},
   "outputs": [
    {
     "name": "stdout",
     "output_type": "stream",
     "text": [
      "Missing values after filling:\n",
      "Event.Id                  0\n",
      "Investigation.Type        0\n",
      "Accident.Number           0\n",
      "Event.Date                0\n",
      "Location                  0\n",
      "Country                   0\n",
      "Airport.Code              0\n",
      "Airport.Name              0\n",
      "Injury.Severity           0\n",
      "Aircraft.damage           0\n",
      "Registration.Number       0\n",
      "Make                      0\n",
      "Model                     0\n",
      "Amateur.Built             0\n",
      "Number.of.Engines         0\n",
      "Engine.Type               0\n",
      "Purpose.of.flight         0\n",
      "Total.Fatal.Injuries      0\n",
      "Total.Serious.Injuries    0\n",
      "Total.Minor.Injuries      0\n",
      "Total.Uninjured           0\n",
      "Weather.Condition         0\n",
      "Broad.phase.of.flight     0\n",
      "Report.Status             0\n",
      "Publication.Date          0\n",
      "dtype: int64\n"
     ]
    }
   ],
   "source": [
    "# Create a for loop that will loop through the categorical cols with missing values\n",
    "for col in categorical_null.index:\n",
    "    # Calculate the percentage of missing values in the current column\n",
    "    missing_percentage = (aviation_df_clean[col].isnull().sum() / len(aviation_df_clean)) * 100\n",
    "    \n",
    "    # Check if the missing percentage is less than 10%\n",
    "    if missing_percentage < 10:\n",
    "        # Fill the missing values with the mode of the column\n",
    "        aviation_df_clean[col] = aviation_df_clean[col].fillna(aviation_df_clean[col].mode()[0])\n",
    "\n",
    "    # Check if the missing percentage is between 10% and 30%\n",
    "    elif missing_percentage >= 10 and missing_percentage < 30:\n",
    "        # Fill the missing values with \"Unknown\"\n",
    "        aviation_df_clean[col] = aviation_df_clean[col].fillna(\"Unknown\")\n",
    "\n",
    "    # Check if the missing percentage is more than 30%\n",
    "    else:\n",
    "        # Fill the missing values with forward fill\n",
    "        aviation_df_clean[col] = aviation_df_clean[col].fillna(method='ffill')\n",
    "\n",
    "        # Fill the missing values with backward fill\n",
    "        aviation_df_clean[col] = aviation_df_clean[col].fillna(method='bfill')\n",
    "\n",
    "# Check for missing values again\n",
    "print(\"Missing values after filling:\")\n",
    "print(aviation_df_clean.isnull().sum())"
   ]
  },
  {
   "cell_type": "markdown",
   "metadata": {},
   "source": [
    "We have successfully dealt with the missing values in our dataset. Just to be sure, we can run the info() again."
   ]
  },
  {
   "cell_type": "code",
   "execution_count": 102,
   "metadata": {},
   "outputs": [
    {
     "name": "stdout",
     "output_type": "stream",
     "text": [
      "<class 'pandas.core.frame.DataFrame'>\n",
      "Int64Index: 88406 entries, 0 to 88888\n",
      "Data columns (total 25 columns):\n",
      " #   Column                  Non-Null Count  Dtype  \n",
      "---  ------                  --------------  -----  \n",
      " 0   Event.Id                88406 non-null  object \n",
      " 1   Investigation.Type      88406 non-null  object \n",
      " 2   Accident.Number         88406 non-null  object \n",
      " 3   Event.Date              88406 non-null  object \n",
      " 4   Location                88406 non-null  object \n",
      " 5   Country                 88406 non-null  object \n",
      " 6   Airport.Code            88406 non-null  object \n",
      " 7   Airport.Name            88406 non-null  object \n",
      " 8   Injury.Severity         88406 non-null  object \n",
      " 9   Aircraft.damage         88406 non-null  object \n",
      " 10  Registration.Number     88406 non-null  object \n",
      " 11  Make                    88406 non-null  object \n",
      " 12  Model                   88406 non-null  object \n",
      " 13  Amateur.Built           88406 non-null  object \n",
      " 14  Number.of.Engines       88406 non-null  float64\n",
      " 15  Engine.Type             88406 non-null  object \n",
      " 16  Purpose.of.flight       88406 non-null  object \n",
      " 17  Total.Fatal.Injuries    88406 non-null  float64\n",
      " 18  Total.Serious.Injuries  88406 non-null  float64\n",
      " 19  Total.Minor.Injuries    88406 non-null  float64\n",
      " 20  Total.Uninjured         88406 non-null  float64\n",
      " 21  Weather.Condition       88406 non-null  object \n",
      " 22  Broad.phase.of.flight   88406 non-null  object \n",
      " 23  Report.Status           88406 non-null  object \n",
      " 24  Publication.Date        88406 non-null  object \n",
      "dtypes: float64(5), object(20)\n",
      "memory usage: 17.5+ MB\n"
     ]
    }
   ],
   "source": [
    "aviation_df_clean.info()"
   ]
  },
  {
   "cell_type": "markdown",
   "metadata": {},
   "source": [
    "Next, we want to standardize the columns so that they can have the same naming format. This will help with readability of the columns, and ensure uniformity in our dataset. We will do this in three fold:\n",
    " 1. Strip any leading or trailing whitespaces\n",
    " 2. Convert all column names to titles\n",
    " 3. Replace the `.` character with `_` character\n",
    "\n",
    "First, we will check all the columns we have."
   ]
  },
  {
   "cell_type": "code",
   "execution_count": 103,
   "metadata": {},
   "outputs": [
    {
     "data": {
      "text/plain": [
       "Index(['Event.Id', 'Investigation.Type', 'Accident.Number', 'Event.Date',\n",
       "       'Location', 'Country', 'Airport.Code', 'Airport.Name',\n",
       "       'Injury.Severity', 'Aircraft.damage', 'Registration.Number', 'Make',\n",
       "       'Model', 'Amateur.Built', 'Number.of.Engines', 'Engine.Type',\n",
       "       'Purpose.of.flight', 'Total.Fatal.Injuries', 'Total.Serious.Injuries',\n",
       "       'Total.Minor.Injuries', 'Total.Uninjured', 'Weather.Condition',\n",
       "       'Broad.phase.of.flight', 'Report.Status', 'Publication.Date'],\n",
       "      dtype='object')"
      ]
     },
     "execution_count": 103,
     "metadata": {},
     "output_type": "execute_result"
    }
   ],
   "source": [
    "# Check the remaining columns in our dataset\n",
    "aviation_df_clean.columns"
   ]
  },
  {
   "cell_type": "markdown",
   "metadata": {},
   "source": [
    "Now we can do the standardization of the columns."
   ]
  },
  {
   "cell_type": "code",
   "execution_count": 104,
   "metadata": {},
   "outputs": [
    {
     "data": {
      "text/plain": [
       "Index(['Event_Id', 'Investigation_Type', 'Accident_Number', 'Event_Date',\n",
       "       'Location', 'Country', 'Airport_Code', 'Airport_Name',\n",
       "       'Injury_Severity', 'Aircraft_Damage', 'Registration_Number', 'Make',\n",
       "       'Model', 'Amateur_Built', 'Number_Of_Engines', 'Engine_Type',\n",
       "       'Purpose_Of_Flight', 'Total_Fatal_Injuries', 'Total_Serious_Injuries',\n",
       "       'Total_Minor_Injuries', 'Total_Uninjured', 'Weather_Condition',\n",
       "       'Broad_Phase_Of_Flight', 'Report_Status', 'Publication_Date'],\n",
       "      dtype='object')"
      ]
     },
     "execution_count": 104,
     "metadata": {},
     "output_type": "execute_result"
    }
   ],
   "source": [
    "# # Standardizing column names\n",
    "aviation_df_clean.columns = (\n",
    "    aviation_df_clean.columns\n",
    "    .str.replace('.', '_', regex=True)  # Replace '.' with '_'\n",
    "    .str.replace(' ', '_', regex=True)  # Replace spaces with '_'\n",
    "    .str.strip()  # Remove leading/trailing spaces\n",
    "    .str.title() # Capitalizes the first letter of each word\n",
    ")\n",
    "\n",
    "# Display updated column names\n",
    "aviation_df_clean.columns"
   ]
  },
  {
   "cell_type": "markdown",
   "metadata": {},
   "source": [
    "This ensures that the column names follow the same naming conventions."
   ]
  },
  {
   "cell_type": "markdown",
   "metadata": {},
   "source": [
    "Looking into the columns, we can convert the data in the `Event_Date` column to the correct format, because it is currently an object data type. To do the conversion, we use the `pd.to_datetime()` function."
   ]
  },
  {
   "cell_type": "code",
   "execution_count": 105,
   "metadata": {},
   "outputs": [
    {
     "name": "stdout",
     "output_type": "stream",
     "text": [
      "datetime64[ns]\n",
      "0\n"
     ]
    }
   ],
   "source": [
    "# Convert Event_Date to Datetime format\n",
    "aviation_df_clean['Event_Date'] = pd.to_datetime(aviation_df_clean['Event_Date'], errors='coerce') # the errors method converts invalid values to NaT (Not a Time) instead of raising an error\n",
    "\n",
    "# Check if all the values in the column have been correctly parsed\n",
    "print(aviation_df_clean['Event_Date'].dtype) # Returns the column data type\n",
    "print(aviation_df_clean['Event_Date'].isna().sum()) # Checks for failed conversions"
   ]
  },
  {
   "cell_type": "markdown",
   "metadata": {},
   "source": [
    "We have successfully converted the `Event_Date` column to its correct data format which is `datetime64[ns]`. We have also converted all the values in the column, hence there are no failed conversions."
   ]
  },
  {
   "cell_type": "markdown",
   "metadata": {},
   "source": [
    "Next, we can extract some features from the `Event_Date` column and create columns for these features to aid in further analysis. For that, we will use the `dt` method."
   ]
  },
  {
   "cell_type": "code",
   "execution_count": 106,
   "metadata": {},
   "outputs": [
    {
     "data": {
      "application/vnd.microsoft.datawrangler.viewer.v0+json": {
       "columns": [
        {
         "name": "index",
         "rawType": "int64",
         "type": "integer"
        },
        {
         "name": "Event_Date",
         "rawType": "datetime64[ns]",
         "type": "datetime"
        },
        {
         "name": "Year",
         "rawType": "int64",
         "type": "integer"
        },
        {
         "name": "Month",
         "rawType": "int64",
         "type": "integer"
        },
        {
         "name": "Date",
         "rawType": "int64",
         "type": "integer"
        },
        {
         "name": "Day_of_Week",
         "rawType": "object",
         "type": "string"
        }
       ],
       "conversionMethod": "pd.DataFrame",
       "ref": "30d024ef-9634-4f88-abc1-ec54403e6070",
       "rows": [
        [
         "0",
         "1948-10-24 00:00:00",
         "1948",
         "10",
         "24",
         "Sunday"
        ],
        [
         "1",
         "1962-07-19 00:00:00",
         "1962",
         "7",
         "19",
         "Thursday"
        ],
        [
         "2",
         "1974-08-30 00:00:00",
         "1974",
         "8",
         "30",
         "Friday"
        ],
        [
         "3",
         "1977-06-19 00:00:00",
         "1977",
         "6",
         "19",
         "Sunday"
        ],
        [
         "4",
         "1979-08-02 00:00:00",
         "1979",
         "8",
         "2",
         "Thursday"
        ]
       ],
       "shape": {
        "columns": 5,
        "rows": 5
       }
      },
      "text/html": [
       "<div>\n",
       "<style scoped>\n",
       "    .dataframe tbody tr th:only-of-type {\n",
       "        vertical-align: middle;\n",
       "    }\n",
       "\n",
       "    .dataframe tbody tr th {\n",
       "        vertical-align: top;\n",
       "    }\n",
       "\n",
       "    .dataframe thead th {\n",
       "        text-align: right;\n",
       "    }\n",
       "</style>\n",
       "<table border=\"1\" class=\"dataframe\">\n",
       "  <thead>\n",
       "    <tr style=\"text-align: right;\">\n",
       "      <th></th>\n",
       "      <th>Event_Date</th>\n",
       "      <th>Year</th>\n",
       "      <th>Month</th>\n",
       "      <th>Date</th>\n",
       "      <th>Day_of_Week</th>\n",
       "    </tr>\n",
       "  </thead>\n",
       "  <tbody>\n",
       "    <tr>\n",
       "      <th>0</th>\n",
       "      <td>1948-10-24</td>\n",
       "      <td>1948</td>\n",
       "      <td>10</td>\n",
       "      <td>24</td>\n",
       "      <td>Sunday</td>\n",
       "    </tr>\n",
       "    <tr>\n",
       "      <th>1</th>\n",
       "      <td>1962-07-19</td>\n",
       "      <td>1962</td>\n",
       "      <td>7</td>\n",
       "      <td>19</td>\n",
       "      <td>Thursday</td>\n",
       "    </tr>\n",
       "    <tr>\n",
       "      <th>2</th>\n",
       "      <td>1974-08-30</td>\n",
       "      <td>1974</td>\n",
       "      <td>8</td>\n",
       "      <td>30</td>\n",
       "      <td>Friday</td>\n",
       "    </tr>\n",
       "    <tr>\n",
       "      <th>3</th>\n",
       "      <td>1977-06-19</td>\n",
       "      <td>1977</td>\n",
       "      <td>6</td>\n",
       "      <td>19</td>\n",
       "      <td>Sunday</td>\n",
       "    </tr>\n",
       "    <tr>\n",
       "      <th>4</th>\n",
       "      <td>1979-08-02</td>\n",
       "      <td>1979</td>\n",
       "      <td>8</td>\n",
       "      <td>2</td>\n",
       "      <td>Thursday</td>\n",
       "    </tr>\n",
       "  </tbody>\n",
       "</table>\n",
       "</div>"
      ],
      "text/plain": [
       "  Event_Date  Year  Month  Date Day_of_Week\n",
       "0 1948-10-24  1948     10    24      Sunday\n",
       "1 1962-07-19  1962      7    19    Thursday\n",
       "2 1974-08-30  1974      8    30      Friday\n",
       "3 1977-06-19  1977      6    19      Sunday\n",
       "4 1979-08-02  1979      8     2    Thursday"
      ]
     },
     "execution_count": 106,
     "metadata": {},
     "output_type": "execute_result"
    }
   ],
   "source": [
    "# Extract the year, month, date and day of the week\n",
    "aviation_df_clean['Year'] = aviation_df_clean['Event_Date'].dt.year\n",
    "aviation_df_clean['Month'] = aviation_df_clean['Event_Date'].dt.month\n",
    "aviation_df_clean['Date'] = aviation_df_clean['Event_Date'].dt.day\n",
    "aviation_df_clean['Day_of_Week'] = aviation_df_clean['Event_Date'].dt.day_name()\n",
    "\n",
    "# Display the first 5 rows of the updated dataset\n",
    "aviation_df_clean[['Event_Date', 'Year', 'Month', 'Date', 'Day_of_Week']].head()"
   ]
  },
  {
   "cell_type": "markdown",
   "metadata": {},
   "source": [
    "This extraction of features from the `Event_Date` column will help us to:\n",
    " 1. Identify trends over time (e.g., Are acccidents increasing or decreasing per year?)\n",
    " 2. Check if accidents happen more frequently on certain days\n",
    " 3. Investigate if certain months have higher accident rates, which may indicate seasonal effects such as bad weather, peak travel seasons, etc"
   ]
  },
  {
   "cell_type": "markdown",
   "metadata": {},
   "source": [
    "Next, there are some columns in the dataset that are irrelevant in my analysis, and therefore I will drop them in order to further clean my data by remaining with columns relevant to my analysis. To do so, I will use the `.drop()` function."
   ]
  },
  {
   "cell_type": "code",
   "execution_count": 107,
   "metadata": {},
   "outputs": [
    {
     "data": {
      "text/plain": [
       "Index(['Event_Id', 'Investigation_Type', 'Event_Date', 'Country',\n",
       "       'Injury_Severity', 'Aircraft_Damage', 'Make', 'Model', 'Amateur_Built',\n",
       "       'Number_Of_Engines', 'Engine_Type', 'Purpose_Of_Flight',\n",
       "       'Total_Fatal_Injuries', 'Total_Serious_Injuries',\n",
       "       'Total_Minor_Injuries', 'Total_Uninjured', 'Weather_Condition',\n",
       "       'Broad_Phase_Of_Flight', 'Year', 'Month', 'Date', 'Day_of_Week'],\n",
       "      dtype='object')"
      ]
     },
     "execution_count": 107,
     "metadata": {},
     "output_type": "execute_result"
    }
   ],
   "source": [
    "# Drop insignificant columns\n",
    "# Create a list of columns to drop\n",
    "columns_to_drop = ['Accident_Number', 'Airport_Code', 'Airport_Name', 'Registration_Number', 'Report_Status', 'Publication_Date', 'Location']\n",
    "\n",
    "# Drop the columns from the dataset\n",
    "aviation_df_clean = aviation_df_clean.drop(columns=columns_to_drop)\n",
    "\n",
    "# Display all the columns in the dataset\n",
    "aviation_df_clean.columns"
   ]
  },
  {
   "cell_type": "markdown",
   "metadata": {},
   "source": [
    "By removing some of the columns, I have identified the key columns that will potentially be used in my analysis, which include:\n",
    " - `Event_Date`: Important for time-based analysis (trends, seasonality)\n",
    " - `Country`: Useful when analyzing accidents by region\n",
    " - `Injury_Severity`: Used to understand the severity of aviation incidents\n",
    " - `Aircraft_Damage`: Important in assessing accident impact\n",
    " - `Make`: Required for grouping aircrafts by manufacturer\n",
    " - `Model`: Helps in analyzing specific aircraft models\n",
    " - `Purpose_of_Flight`: Determines accident trends based on flight type\n",
    " - `Number_Of_Engines`: Useful to compare accident rates for different aircraft configurations\n",
    " - `Engine_Type`: Might influence accident probability\n",
    " - `Weather_Condition`: Critical aspect in aviation incident analysis\n",
    " - `Broad_Phase_Of_Flight`: Helps in comprehending when accidents occur (takeoff, cruising, landing)\n",
    " - `Total_Fatal_Injuries`: Important for aircraft risk assessment\n",
    " - `Total_Serious_Injuries`: Useful in understandig accident severity\n",
    " - `Total_Minor_Injuries`: Complements severity assessment\n",
    " - `Total_Uninjured`: This might provide insights into aircraft safety and regulation\n",
    " - `Year, Month, Date, Day_of_Week`: Extracted from `Event_Date` for further time-based aalysis.\n",
    "\n",
    " The columns I have dropped from the dataset include:\n",
    " - `Accident_Number`: This is a unique identifier for each accident and doesn't provide any useful information for analysis.\n",
    " - `Airport_Code`, `Airport_Name`, `Registration_Number`, `Report_Status`, `Publication_Date`, `Location`: These columns contain information about the accident location, which is already captured in the `Event_Date` and `Country` columns.\n",
    "\n",
    "By doing this, I have reduced the dimensionality of the dataset."
   ]
  },
  {
   "cell_type": "markdown",
   "metadata": {},
   "source": [
    "As part of deeper analysis into our data, it is important to get a count of certain features in our dataset. This will help in visualizing the trends in aircraft accidents based on aspects such as `Make, Model, Weather conditions, and the Purpose of flight`. To do so, we can group the dataset based on these features, get toe count of each feature and transform it to a new column for each feature to aid in plotting visualizations."
   ]
  },
  {
   "cell_type": "code",
   "execution_count": 108,
   "metadata": {},
   "outputs": [],
   "source": [
    "# Group the dataset based on a few categorical columns\n",
    "aviation_df_clean['Weather_Occurrence_Count'] = aviation_df_clean.groupby('Weather_Condition')['Weather_Condition'].transform('count')\n",
    "aviation_df_clean['Aircraft_Make_Count'] = aviation_df_clean.groupby('Make')['Make'].transform('count')\n",
    "aviation_df_clean['Aircraft_Model_Count'] = aviation_df_clean.groupby('Model')['Model'].transform('count')\n",
    "aviation_df_clean['Purpose_Of_Flight_Count'] = aviation_df_clean.groupby('Purpose_Of_Flight')['Purpose_Of_Flight'].transform('count')"
   ]
  },
  {
   "cell_type": "markdown",
   "metadata": {},
   "source": [
    "The `groupby(column_name)['column_name'].transform('count')` function:\n",
    " - Groups the dataset by the specified column.\n",
    " - Calculates the count of each unique category in the specified column.\n",
    " - Assigns the count back to every row in the dataset within a new column.\n",
    "\n",
    "For example, `aviation_df_clean['Weather_Occurrence_Count'] = aviation_df_clean.groupby('Weather_Condition')['Weather_Condition'].transform('count')`:\n",
    " - Groups the dataset by `Weather_Condition` (e.g., 'VMC', 'IMC').\n",
    " - Counts the frequency of each weather condition in the dataset.\n",
    " - Assigns the count to every row corresponding to that weather condition."
   ]
  },
  {
   "cell_type": "code",
   "execution_count": 109,
   "metadata": {},
   "outputs": [
    {
     "name": "stdout",
     "output_type": "stream",
     "text": [
      "<class 'pandas.core.frame.DataFrame'>\n",
      "Int64Index: 88406 entries, 0 to 88888\n",
      "Data columns (total 26 columns):\n",
      " #   Column                    Non-Null Count  Dtype         \n",
      "---  ------                    --------------  -----         \n",
      " 0   Event_Id                  88406 non-null  object        \n",
      " 1   Investigation_Type        88406 non-null  object        \n",
      " 2   Event_Date                88406 non-null  datetime64[ns]\n",
      " 3   Country                   88406 non-null  object        \n",
      " 4   Injury_Severity           88406 non-null  object        \n",
      " 5   Aircraft_Damage           88406 non-null  object        \n",
      " 6   Make                      88406 non-null  object        \n",
      " 7   Model                     88406 non-null  object        \n",
      " 8   Amateur_Built             88406 non-null  object        \n",
      " 9   Number_Of_Engines         88406 non-null  float64       \n",
      " 10  Engine_Type               88406 non-null  object        \n",
      " 11  Purpose_Of_Flight         88406 non-null  object        \n",
      " 12  Total_Fatal_Injuries      88406 non-null  float64       \n",
      " 13  Total_Serious_Injuries    88406 non-null  float64       \n",
      " 14  Total_Minor_Injuries      88406 non-null  float64       \n",
      " 15  Total_Uninjured           88406 non-null  float64       \n",
      " 16  Weather_Condition         88406 non-null  object        \n",
      " 17  Broad_Phase_Of_Flight     88406 non-null  object        \n",
      " 18  Year                      88406 non-null  int64         \n",
      " 19  Month                     88406 non-null  int64         \n",
      " 20  Date                      88406 non-null  int64         \n",
      " 21  Day_of_Week               88406 non-null  object        \n",
      " 22  Weather_Occurrence_Count  88406 non-null  int64         \n",
      " 23  Aircraft_Make_Count       88406 non-null  int64         \n",
      " 24  Aircraft_Model_Count      88406 non-null  int64         \n",
      " 25  Purpose_Of_Flight_Count   88406 non-null  int64         \n",
      "dtypes: datetime64[ns](1), float64(5), int64(7), object(13)\n",
      "memory usage: 18.2+ MB\n"
     ]
    }
   ],
   "source": [
    "# Check the overall info of the dataset\n",
    "aviation_df_clean.info()"
   ]
  },
  {
   "cell_type": "markdown",
   "metadata": {},
   "source": [
    "Now that we have finished with our data cleaning, let's save the cleaned dataframe to a CSV file for future visualization in Tableau. To do so, we use the `pd.to_csv()` function."
   ]
  },
  {
   "cell_type": "code",
   "execution_count": 110,
   "metadata": {},
   "outputs": [],
   "source": [
    "aviation_df_clean.to_csv('data/Aviation_Data_Cleaned.csv')"
   ]
  },
  {
   "cell_type": "markdown",
   "metadata": {},
   "source": [
    "## 📊 Data Visualization\n",
    "Data visualization is a crucial step in analyzing aviation safety data, as it helps uncover patterns, correlations, and potential risk factors affecting aircraft incidents. By leveraging visual insights, we can identigy high-risk aircraft models, assess the impact of weather conditions, and determine trends in aviation incidents over time. This section explores key visualizations that will guide our risk assessment analysis.\n",
    "\n",
    "### Objectives of visualization:\n",
    " 1. __Understanding Trends:__ Analyzing accident occurrences over time to identify safety improvements or risk fluctuations.\n",
    " 2. __Assessing Aircraft Risk Factors:__ Identifying aircraft makes, models, and engine types that are frequently involved in incidents.\n",
    " 3. __Evaluating Injury Severity:__ Visualizing the distribution of fatal, serious, and minor injuries across different aircraft types and accident scenarios.\n",
    " 4. __Weather and Flight Phase Impact:__ Examining how weather conditions and different phases of flight contribute to accident occurrences.\n",
    " 5. __Geographical Distribution:__ Identifying countries or regions with the highest number of incidents.\n",
    "\n",
    "### Key Visualizations\n",
    "To achieve these set objectives, we will use the following visualizations:\n",
    " 1. __Accident Trends Over Time__\n",
    "      - A line plot showing the number of accidents per year to observe trends in aviation incidents over the years.\n",
    " 2. __Aircraft Manufacturer and Model Analysis__\n",
    "      - A bar plot indicating the top 10 aircraft manufacturers involved in aviation accidents.\n",
    " 3. __Injury Severity Distribution__\n",
    "      - A stacked bar plot showing the distribution of fatal, serious, and minor injuries across different aircraft types and accident scenarios.\n",
    " 4. __Impact of Weather Conditions__\n",
    "      - A bar plot comparing the number of accidents under different weather conditions (e.g., IMC vs. VMC)\n",
    " 5. __Flight Phase Risk Analysis__\n",
    "      - A count plot showing which flight phases (e.g., takeoff, landing, cruising) are most prone to accidents.\n",
    "\n",
    "### Visualization Tools\n",
    "For this analysis, we will use the following Python libraries:\n",
    "   - `Matplotlib` for basic plotting\n",
    "   - `Seaborn` for advanced plotting and statistical visualization\n",
    "\n",
    "Through these visualizations, we aim to draw valuable insights that can contribute to improved risk assessment and aviation safety measures."
   ]
  },
  {
   "cell_type": "markdown",
   "metadata": {},
   "source": [
    "### 1. Aviation Accidents over time\n",
    "This is a `time-series plot` of Number of Accidents against the Years."
   ]
  },
  {
   "cell_type": "code",
   "execution_count": 111,
   "metadata": {},
   "outputs": [
    {
     "data": {
      "image/png": "[encoded data removed]",
      "text/plain": [
       "<Figure size 936x504 with 1 Axes>"
      ]
     },
     "metadata": {
      "needs_background": "light"
     },
     "output_type": "display_data"
    }
   ],
   "source": [
    "plt.figure(figsize=(13, 7))\n",
    "accident_trend = aviation_df_clean['Year'].value_counts().sort_index()\n",
    "sns.lineplot(x=accident_trend.index, y=accident_trend.values, marker=\"o\", color=\"b\", linestyle=\"-\")\n",
    "plt.xlabel(\"Year\")\n",
    "plt.ylabel(\"Number of Accidents\")\n",
    "plt.title(\"Aviation Incidents Over the Years\")\n",
    "plt.grid(True)\n",
    "plt.show()"
   ]
  },
  {
   "cell_type": "markdown",
   "metadata": {},
   "source": [
    "From the plot, we can see that between `1948 and 1980`, aviation accidents were very minimal, implying that the number of accidents increased significantly from 1982, which recorded the highest number of accidents, onwards."
   ]
  },
  {
   "cell_type": "markdown",
   "metadata": {},
   "source": [
    "### 2. Aircraft Manufacturer and Model Analysis ✈️\n",
    "This is a `bar plot` of Aircraft Manufacturer count against the Number of Accidents."
   ]
  },
  {
   "cell_type": "code",
   "execution_count": 112,
   "metadata": {},
   "outputs": [
    {
     "data": {
      "image/png": "[encoded data removed]",
      "text/plain": [
       "<Figure size 936x504 with 1 Axes>"
      ]
     },
     "metadata": {
      "needs_background": "light"
     },
     "output_type": "display_data"
    }
   ],
   "source": [
    "plt.figure(figsize=(13, 7))\n",
    "top_10_aircraft_makes = aviation_df_clean['Make'].value_counts().nlargest(10) # Picks the top 10 aircraft manufacturers in the Make column\n",
    "sns.barplot(x=top_10_aircraft_makes.values, y=top_10_aircraft_makes.index, palette=\"viridis\")\n",
    "plt.xlabel(\"Number of Accidents\")\n",
    "plt.ylabel(\"Aircraft Manufacturer\")\n",
    "plt.title(\"Top 10 Aircraft Manufacturers against Number of Accidents\")\n",
    "plt.show()"
   ]
  },
  {
   "cell_type": "markdown",
   "metadata": {},
   "source": [
    "From the bar plot, we can note that the `Cessna` aircraft make had the highest number of accidents, recording over 20000 number of accidents."
   ]
  },
  {
   "cell_type": "markdown",
   "metadata": {},
   "source": [
    "### 3. Injury Severity Distribution ⚠️\n",
    "This is a bar plot of Number of people against the injury type."
   ]
  },
  {
   "cell_type": "code",
   "execution_count": 113,
   "metadata": {},
   "outputs": [
    {
     "data": {
      "image/png": "[encoded data removed]",
      "text/plain": [
       "<Figure size 936x504 with 1 Axes>"
      ]
     },
     "metadata": {
      "needs_background": "light"
     },
     "output_type": "display_data"
    }
   ],
   "source": [
    "injury_columns = ['Total_Fatal_Injuries', 'Total_Serious_Injuries', 'Total_Minor_Injuries', 'Total_Uninjured']\n",
    "injury_data = aviation_df_clean[injury_columns].sum()\n",
    "\n",
    "plt.figure(figsize=(13, 7))\n",
    "injury_data.plot(kind='bar', color=['red', 'orange', 'blue', 'green'])\n",
    "plt.xlabel(\"Injury Type\")\n",
    "plt.ylabel(\"Number of People\")\n",
    "plt.title(\"Distribution of Injury Severity in Aircraft Accidents\")\n",
    "plt.show()"
   ]
  },
  {
   "cell_type": "markdown",
   "metadata": {},
   "source": [
    "From the plot, majority of the people were recorded as uninjured as compared to the other injury categories."
   ]
  },
  {
   "cell_type": "markdown",
   "metadata": {},
   "source": [
    "### 4. Impact of Weather Conditions ☁️\n",
    "This is a count plot of Weather Condtions against the Number of accidents"
   ]
  },
  {
   "cell_type": "code",
   "execution_count": 114,
   "metadata": {},
   "outputs": [
    {
     "data": {
      "image/png": "[encoded data removed]",
      "text/plain": [
       "<Figure size 936x504 with 1 Axes>"
      ]
     },
     "metadata": {
      "needs_background": "light"
     },
     "output_type": "display_data"
    }
   ],
   "source": [
    "plt.figure(figsize=(13, 7))\n",
    "sns.countplot(y=aviation_df_clean[\"Weather_Condition\"], order=aviation_df_clean[\"Weather_Condition\"].value_counts().index, palette=\"mako\")\n",
    "plt.xlabel(\"Number of Accidents\")\n",
    "plt.ylabel(\"Weather Condition\")\n",
    "plt.title(\"Accidents by Weather Condition\")\n",
    "plt.show()"
   ]
  },
  {
   "cell_type": "markdown",
   "metadata": {},
   "source": [
    "From the plot, `VMC` is the weather condition that caused majority of the accidents compared to the other weather conditions."
   ]
  },
  {
   "cell_type": "markdown",
   "metadata": {},
   "source": [
    "### 5. Flight Phase Risk Analysis 🚀\n",
    "This is a count plot of the Phase of Flight against the Number of Accidents.\n"
   ]
  },
  {
   "cell_type": "code",
   "execution_count": 115,
   "metadata": {},
   "outputs": [
    {
     "data": {
      "image/png": "[encoded data removed]",
      "text/plain": [
       "<Figure size 936x504 with 1 Axes>"
      ]
     },
     "metadata": {
      "needs_background": "light"
     },
     "output_type": "display_data"
    }
   ],
   "source": [
    "plt.figure(figsize=(13, 7))\n",
    "sns.countplot(y=aviation_df_clean[\"Broad_Phase_Of_Flight\"], order=aviation_df_clean[\"Broad_Phase_Of_Flight\"].value_counts().index, palette=\"cubehelix\")\n",
    "plt.xlabel(\"Accidents Count\")\n",
    "plt.ylabel(\"Phase of Flight\")\n",
    "plt.title(\"Accidents by Phase of Flight\")\n",
    "plt.show()"
   ]
  },
  {
   "cell_type": "markdown",
   "metadata": {},
   "source": [
    "From the visualization above, majority of the accidents occurred when the aircraft was landing as opposed to the other phases such as takeoff and cruise"
   ]
  },
  {
   "cell_type": "markdown",
   "metadata": {},
   "source": [
    "### 6. Correlation Heatmap 🗺️\n",
    "This plot will help identify relationships between several numerical features, which in this case are:\n",
    " - `Total_Fatal_Injuries`\n",
    " - `Total_Serious_Injuries`\n",
    " - `Total_Minor_Injuries`\n",
    " - `Total_Uninjured`\n",
    " - `Number_Of_Engines`"
   ]
  },
  {
   "cell_type": "code",
   "execution_count": 116,
   "metadata": {},
   "outputs": [
    {
     "data": {
      "image/png": "[encoded data removed]",
      "text/plain": [
       "<Figure size 936x504 with 2 Axes>"
      ]
     },
     "metadata": {
      "needs_background": "light"
     },
     "output_type": "display_data"
    }
   ],
   "source": [
    "# Select numerical columns for correlation\n",
    "numerical_cols = ['Total_Fatal_Injuries', 'Total_Serious_Injuries', 'Total_Minor_Injuries', 'Total_Uninjured', 'Number_Of_Engines']\n",
    "\n",
    "# Compute correlation matrix\n",
    "correlation_matrix = aviation_df_clean[numerical_cols].corr()\n",
    "\n",
    "# Plot heatmap\n",
    "plt.figure(figsize=(13, 7))\n",
    "sns.heatmap(correlation_matrix, annot=True, cmap=\"coolwarm\", fmt=\".2f\", linewidths=0.5)\n",
    "plt.title(\"Correlation Heatmap of Aircraft Risk Factors\")\n",
    "plt.show()"
   ]
  },
  {
   "cell_type": "markdown",
   "metadata": {},
   "source": [
    "The heatmap helps in identifying strong positive or negative correlations, for example, whether an aircraft with more engines tends to have more or fewer accidents.\n",
    "\n",
    "For example, looking into the heatmap, we can see that there is a very strong negative correlation between the `Total_Uninjured` and `Total_Fatal_Injuries`, implying that more uninjured passangers translates to fewer fatalities."
   ]
  },
  {
   "cell_type": "markdown",
   "metadata": {},
   "source": [
    "### 7. Aircrafts Manufacture with Flight Purpose 💼\n",
    "This plot will help in comparing aircraft manufacturers based on the primary use of their aircrafts"
   ]
  },
  {
   "cell_type": "code",
   "execution_count": 117,
   "metadata": {},
   "outputs": [
    {
     "data": {
      "image/png": "[encoded data removed]",
      "text/plain": [
       "<Figure size 936x504 with 1 Axes>"
      ]
     },
     "metadata": {
      "needs_background": "light"
     },
     "output_type": "display_data"
    }
   ],
   "source": [
    "# Aircraft Make vs Purpose of Flight\n",
    "plt.figure(figsize=(13, 7))\n",
    "sns.barplot(x=aviation_df_clean['Purpose_Of_Flight'], y=aviation_df_clean['Aircraft_Make_Count'])\n",
    "plt.title(\"Aircraft Manufacturer Vs. Flight Purpose\")\n",
    "plt.xlabel(\"Purpose_Of_Flight\")\n",
    "plt.ylabel(\"Aircraft_Make_Count\")\n",
    "plt.xticks(rotation=90)\n",
    "plt.show()"
   ]
  },
  {
   "cell_type": "markdown",
   "metadata": {},
   "source": [
    "### 8. Aircraft Manufacturers by Number of Engines\n",
    "This bar plot indicates the total aircraft manufacturers against the number of engines in an aircraft."
   ]
  },
  {
   "cell_type": "code",
   "execution_count": 118,
   "metadata": {},
   "outputs": [
    {
     "data": {
      "image/png": "[encoded data removed]",
      "text/plain": [
       "<Figure size 936x504 with 1 Axes>"
      ]
     },
     "metadata": {
      "needs_background": "light"
     },
     "output_type": "display_data"
    }
   ],
   "source": [
    "plt.figure(figsize=(13,7))\n",
    "sns.barplot(x=aviation_df_clean['Number_Of_Engines'], y=aviation_df_clean['Aircraft_Make_Count'])\n",
    "plt.xlabel(\"Number of Engines\")\n",
    "plt.ylabel(\"Airplane Make Count\")\n",
    "plt.title(\"Airplane Make Count vs. Number of Engines\")\n",
    "plt.show()"
   ]
  },
  {
   "cell_type": "markdown",
   "metadata": {},
   "source": [
    "Based on this plot, we can derive that most aircraft manufacturers prefer to produce aircrafts with single engines, as opposed to multi-engine aircrafts."
   ]
  },
  {
   "cell_type": "markdown",
   "metadata": {},
   "source": [
    "### Conclusion.\n",
    "This analysis provides valuable insights into the aviation accidents dataset. By visualizing the data using various plots, we can gain a deeper understanding of the frequency of accidents, the severity of injuries, the impact of weather conditions, and the relationship between various factors. By identifying patterns and trends, we can better prepare for and respond to potential accidents.\n",
    "\n",
    "The correlation heatmap reveals strong negative correlations between the `Total_Uninjured` and `Total_Fatal_Injuries`, suggesting that more uninjured passengers might result in fewer fatalities.\n",
    "\n",
    "Furthermore, by comparing aircraft manufacturers based on their primary use of their aircrafts, we can gain insights into the preferences and needs of different airlines. We can also see that most aircraft manufacturers prefer to produce aircrafts with single engines, which aligns with the industry standards and best practices."
   ]
  },
  {
   "cell_type": "markdown",
   "metadata": {},
   "source": []
  }
 ],
 "metadata": {
  "kernelspec": {
   "display_name": "learn-env",
   "language": "python",
   "name": "python3"
  },
  "language_info": {
   "codemirror_mode": {
    "name": "ipython",
    "version": 3
   },
   "file_extension": ".py",
   "mimetype": "text/x-python",
   "name": "python",
   "nbconvert_exporter": "python",
   "pygments_lexer": "ipython3",
   "version": "3.8.5"
  }
 },
 "nbformat": 4,
 "nbformat_minor": 2
}
